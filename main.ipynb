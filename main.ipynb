{
  "cells": [
    {
      "cell_type": "markdown",
      "metadata": {},
      "source": [
        "F74091132_GAI_Project4"
      ]
    },
    {
      "cell_type": "markdown",
      "metadata": {
        "id": "wWGr-YC-tQYK"
      },
      "source": [
        "Step 1: Deep Image Prior (DIP) Model"
      ]
    },
    {
      "cell_type": "markdown",
      "metadata": {
        "id": "ClElb7lOtVtQ"
      },
      "source": [
        "Step 2: Denoising Diffusion Probabilistic Model (DDPM) with DIP Prior"
      ]
    },
    {
      "cell_type": "markdown",
      "metadata": {
        "id": "_Ld2XqP6tYx4"
      },
      "source": [
        "Step 3: Evaluation"
      ]
    },
    {
      "cell_type": "markdown",
      "metadata": {},
      "source": [
        "1.Using DDPM alone"
      ]
    },
    {
      "cell_type": "code",
      "execution_count": 17,
      "metadata": {
        "colab": {
          "base_uri": "https://localhost:8080/",
          "height": 828
        },
        "id": "9_6vYfcl7d-0",
        "outputId": "6ad7d60a-7b4f-4a58-f96e-f11c78cdb33c"
      },
      "outputs": [
        {
          "name": "stdout",
          "output_type": "stream",
          "text": [
            "Files already downloaded and verified\n"
          ]
        },
        {
          "name": "stderr",
          "output_type": "stream",
          "text": [
            "100%|██████████| 782/782 [00:51<00:00, 15.10it/s]\n"
          ]
        },
        {
          "name": "stdout",
          "output_type": "stream",
          "text": [
            "Epoch [1/10], Loss: 0.005624772474357901\n"
          ]
        },
        {
          "name": "stderr",
          "output_type": "stream",
          "text": [
            "100%|██████████| 782/782 [00:52<00:00, 15.01it/s]\n"
          ]
        },
        {
          "name": "stdout",
          "output_type": "stream",
          "text": [
            "Epoch [2/10], Loss: 0.0006893004995541196\n"
          ]
        },
        {
          "name": "stderr",
          "output_type": "stream",
          "text": [
            "100%|██████████| 782/782 [00:51<00:00, 15.07it/s]\n"
          ]
        },
        {
          "name": "stdout",
          "output_type": "stream",
          "text": [
            "Epoch [3/10], Loss: 0.00043455571067914584\n"
          ]
        },
        {
          "name": "stderr",
          "output_type": "stream",
          "text": [
            "100%|██████████| 782/782 [00:52<00:00, 14.91it/s]\n"
          ]
        },
        {
          "name": "stdout",
          "output_type": "stream",
          "text": [
            "Epoch [4/10], Loss: 0.00035115066992641187\n"
          ]
        },
        {
          "name": "stderr",
          "output_type": "stream",
          "text": [
            "100%|██████████| 782/782 [00:51<00:00, 15.04it/s]\n"
          ]
        },
        {
          "name": "stdout",
          "output_type": "stream",
          "text": [
            "Epoch [5/10], Loss: 0.0002914171657877301\n"
          ]
        },
        {
          "name": "stderr",
          "output_type": "stream",
          "text": [
            "100%|██████████| 782/782 [00:52<00:00, 14.87it/s]\n"
          ]
        },
        {
          "name": "stdout",
          "output_type": "stream",
          "text": [
            "Epoch [6/10], Loss: 0.00027436351923536555\n"
          ]
        },
        {
          "name": "stderr",
          "output_type": "stream",
          "text": [
            "100%|██████████| 782/782 [00:52<00:00, 14.85it/s]\n"
          ]
        },
        {
          "name": "stdout",
          "output_type": "stream",
          "text": [
            "Epoch [7/10], Loss: 0.0002479318849988753\n"
          ]
        },
        {
          "name": "stderr",
          "output_type": "stream",
          "text": [
            "100%|██████████| 782/782 [00:52<00:00, 14.87it/s]\n"
          ]
        },
        {
          "name": "stdout",
          "output_type": "stream",
          "text": [
            "Epoch [8/10], Loss: 0.00024114218862697362\n"
          ]
        },
        {
          "name": "stderr",
          "output_type": "stream",
          "text": [
            "100%|██████████| 782/782 [00:52<00:00, 15.00it/s]\n"
          ]
        },
        {
          "name": "stdout",
          "output_type": "stream",
          "text": [
            "Epoch [9/10], Loss: 0.00023820326244851196\n"
          ]
        },
        {
          "name": "stderr",
          "output_type": "stream",
          "text": [
            "100%|██████████| 782/782 [00:52<00:00, 14.92it/s]\n",
            "WARNING:matplotlib.image:Clipping input data to the valid range for imshow with RGB data ([0..1] for floats or [0..255] for integers).\n",
            "WARNING:matplotlib.image:Clipping input data to the valid range for imshow with RGB data ([0..1] for floats or [0..255] for integers).\n"
          ]
        },
        {
          "name": "stdout",
          "output_type": "stream",
          "text": [
            "Epoch [10/10], Loss: 0.0002119315709291293\n"
          ]
        },
        {
          "data": {
            "image/png": "[encoded data removed]",
            "text/plain": [
              "<Figure size 800x400 with 2 Axes>"
            ]
          },
          "metadata": {},
          "output_type": "display_data"
        },
        {
          "name": "stdout",
          "output_type": "stream",
          "text": [
            "PSNR: 29.364598170803415\n",
            "SSIM: 0.821960573396759\n"
          ]
        },
        {
          "name": "stderr",
          "output_type": "stream",
          "text": [
            "<ipython-input-17-eb010cbb118e>:113: FutureWarning: `multichannel` is a deprecated argument name for `structural_similarity`. It will be removed in version 1.0. Please use `channel_axis` instead.\n",
            "  ssim_value = ssim(torch.clone(test_image).cpu().permute(1, 2, 0).numpy(),\n"
          ]
        }
      ],
      "source": [
        "# Using DDPM alone\n",
        "import torch\n",
        "import torch.nn as nn\n",
        "import torch.optim as optim\n",
        "import torchvision\n",
        "import torchvision.transforms as transforms\n",
        "from torch.utils.data import DataLoader\n",
        "from tqdm import tqdm\n",
        "import matplotlib.pyplot as plt\n",
        "from skimage.metrics import peak_signal_noise_ratio as psnr\n",
        "from skimage.metrics import structural_similarity as ssim\n",
        "from torchvision.models import inception_v3\n",
        "import numpy as np\n",
        "from scipy.linalg import sqrtm\n",
        "\n",
        "# Step 1: Define DDPM Model\n",
        "class DDPMBlock(nn.Module):\n",
        "    def __init__(self, channels, noise_schedule):\n",
        "        super(DDPMBlock, self).__init__()\n",
        "        self.net = nn.Sequential(\n",
        "            nn.Conv2d(channels, channels, kernel_size=3, padding=1),\n",
        "            nn.ReLU(),\n",
        "            nn.Conv2d(channels, channels, kernel_size=3, padding=1)\n",
        "        )\n",
        "        self.sigma_schedule = nn.Parameter(torch.tensor(noise_schedule), requires_grad=False)\n",
        "\n",
        "    def forward(self, x, t):\n",
        "        sigma_t = self.sigma_schedule[t]\n",
        "        noise = torch.randn_like(x) * sigma_t\n",
        "        return x + noise - self.net(x)\n",
        "\n",
        "class DDPM(nn.Module):\n",
        "    def __init__(self, num_blocks, channels, noise_schedule):\n",
        "        super(DDPM, self).__init__()\n",
        "        self.blocks = nn.ModuleList([DDPMBlock(channels, noise_schedule) for _ in range(num_blocks)])\n",
        "\n",
        "    def forward(self, x, t):\n",
        "        for block in self.blocks:\n",
        "            x = block(x, t)\n",
        "        return x\n",
        "\n",
        "# Step 2: Preprocess CIFAR-10 Dataset\n",
        "transform = transforms.Compose([\n",
        "    transforms.ToTensor(),\n",
        "    transforms.Normalize((0.5, 0.5, 0.5), (0.5, 0.5, 0.5)) # Normalize to [-1, 1]\n",
        "])\n",
        "\n",
        "trainset = torchvision.datasets.CIFAR10(root='./data', train=True, download=True, transform=transform)\n",
        "trainloader = DataLoader(trainset, batch_size=64, shuffle=True)\n",
        "\n",
        "# Step 3: Initialize Model, Loss, and Optimizer\n",
        "device = torch.device(\"cuda\" if torch.cuda.is_available() else \"cpu\")\n",
        "\n",
        "num_blocks = 10\n",
        "channels = 3  # For RGB images\n",
        "noise_schedule = [0.01 * (i / 1000) for i in range(1000)]  # Example noise schedule\n",
        "model = DDPM(num_blocks, channels, noise_schedule).to(device)\n",
        "\n",
        "criterion = nn.MSELoss()\n",
        "optimizer = optim.Adam(model.parameters(), lr=0.001)\n",
        "\n",
        "# Step 4: Training Loop\n",
        "num_epochs = 10\n",
        "for epoch in range(num_epochs):\n",
        "    model.train()\n",
        "    running_loss = 0.0\n",
        "    for inputs, _ in tqdm(trainloader):\n",
        "        inputs = inputs.to(device)\n",
        "        optimizer.zero_grad()\n",
        "        outputs = model(inputs, t=torch.randint(0, len(noise_schedule), (1,)).item())\n",
        "        loss = criterion(outputs, inputs)\n",
        "        loss.backward()\n",
        "        optimizer.step()\n",
        "        running_loss += loss.item()\n",
        "    print(f\"Epoch [{epoch+1}/{num_epochs}], Loss: {running_loss/len(trainloader)}\")\n",
        "\n",
        "# Step 5: Evaluation and Sample Generation\n",
        "def denoise_image(model, image, num_steps=10):\n",
        "    model.eval()\n",
        "    with torch.no_grad():\n",
        "        if len(image.shape) == 3:  # Single image\n",
        "            x = image.unsqueeze(0).to(device)\n",
        "            for t in range(num_steps):\n",
        "                x = model(x, t=torch.randint(0, len(noise_schedule), (1,)).item())\n",
        "            return x.cpu().squeeze(0)\n",
        "        elif len(image.shape) == 4:  # Batch of images\n",
        "            denoised_images = []\n",
        "            for i in range(image.shape[0]):\n",
        "                x = image[i].unsqueeze(0).to(device)\n",
        "                for t in range(num_steps):\n",
        "                    x = model(x, t=torch.randint(0, len(noise_schedule), (1,)).item())\n",
        "                denoised_images.append(x.cpu().squeeze(0))\n",
        "            return torch.stack(denoised_images)\n",
        "\n",
        "\n",
        "# Choose a random image from the dataset for evaluation\n",
        "test_image, _ = trainset[0]\n",
        "denoised_image = denoise_image(model, test_image)\n",
        "\n",
        "# Plot original and denoised images\n",
        "plt.figure(figsize=(8, 4))\n",
        "plt.subplot(1, 2, 1)\n",
        "plt.title('Original Image')\n",
        "plt.imshow(test_image.permute(1, 2, 0))\n",
        "plt.subplot(1, 2, 2)\n",
        "plt.title('Denoised Image')\n",
        "plt.imshow(denoised_image.permute(1, 2, 0))\n",
        "plt.show()\n",
        "\n",
        "# Calculate PSNR and SSIM\n",
        "psnr_value = psnr(torch.clone(test_image).cpu().permute(1, 2, 0).numpy(),\n",
        "                  denoised_image.cpu().permute(1, 2, 0).numpy())\n",
        "ssim_value = ssim(torch.clone(test_image).cpu().permute(1, 2, 0).numpy(),\n",
        "                  denoised_image.cpu().permute(1, 2, 0).numpy(), multichannel=True)\n",
        "\n",
        "print(f\"PSNR: {psnr_value}\")\n",
        "print(f\"SSIM: {ssim_value}\")"
      ]
    },
    {
      "cell_type": "markdown",
      "metadata": {},
      "source": [
        "2.Using DDPM + DIP"
      ]
    },
    {
      "cell_type": "code",
      "execution_count": 13,
      "metadata": {
        "colab": {
          "base_uri": "https://localhost:8080/",
          "height": 1000
        },
        "id": "TnxdlnV5MnQV",
        "outputId": "9c425957-c2ca-461d-cb1e-ba1fa3fcfb5f"
      },
      "outputs": [
        {
          "name": "stdout",
          "output_type": "stream",
          "text": [
            "Files already downloaded and verified\n"
          ]
        },
        {
          "name": "stderr",
          "output_type": "stream",
          "text": [
            "100%|██████████| 782/782 [00:15<00:00, 49.94it/s]\n"
          ]
        },
        {
          "name": "stdout",
          "output_type": "stream",
          "text": [
            "DIP Epoch [1/10], Loss: 0.03503537988718933\n"
          ]
        },
        {
          "name": "stderr",
          "output_type": "stream",
          "text": [
            "100%|██████████| 782/782 [00:15<00:00, 50.57it/s]\n"
          ]
        },
        {
          "name": "stdout",
          "output_type": "stream",
          "text": [
            "DIP Epoch [2/10], Loss: 0.005971370113190606\n"
          ]
        },
        {
          "name": "stderr",
          "output_type": "stream",
          "text": [
            "100%|██████████| 782/782 [00:15<00:00, 50.99it/s]\n"
          ]
        },
        {
          "name": "stdout",
          "output_type": "stream",
          "text": [
            "DIP Epoch [3/10], Loss: 0.0013543083989734303\n"
          ]
        },
        {
          "name": "stderr",
          "output_type": "stream",
          "text": [
            "100%|██████████| 782/782 [00:15<00:00, 51.21it/s]\n"
          ]
        },
        {
          "name": "stdout",
          "output_type": "stream",
          "text": [
            "DIP Epoch [4/10], Loss: 0.0005537276696267864\n"
          ]
        },
        {
          "name": "stderr",
          "output_type": "stream",
          "text": [
            "100%|██████████| 782/782 [00:15<00:00, 51.07it/s]\n"
          ]
        },
        {
          "name": "stdout",
          "output_type": "stream",
          "text": [
            "DIP Epoch [5/10], Loss: 0.00030281096433728216\n"
          ]
        },
        {
          "name": "stderr",
          "output_type": "stream",
          "text": [
            "100%|██████████| 782/782 [00:15<00:00, 51.68it/s]\n"
          ]
        },
        {
          "name": "stdout",
          "output_type": "stream",
          "text": [
            "DIP Epoch [6/10], Loss: 0.0001795427342120539\n"
          ]
        },
        {
          "name": "stderr",
          "output_type": "stream",
          "text": [
            "100%|██████████| 782/782 [00:15<00:00, 50.89it/s]\n"
          ]
        },
        {
          "name": "stdout",
          "output_type": "stream",
          "text": [
            "DIP Epoch [7/10], Loss: 0.0001086464801905504\n"
          ]
        },
        {
          "name": "stderr",
          "output_type": "stream",
          "text": [
            "100%|██████████| 782/782 [00:15<00:00, 51.41it/s]\n"
          ]
        },
        {
          "name": "stdout",
          "output_type": "stream",
          "text": [
            "DIP Epoch [8/10], Loss: 6.940358343156491e-05\n"
          ]
        },
        {
          "name": "stderr",
          "output_type": "stream",
          "text": [
            "100%|██████████| 782/782 [00:15<00:00, 51.29it/s]\n"
          ]
        },
        {
          "name": "stdout",
          "output_type": "stream",
          "text": [
            "DIP Epoch [9/10], Loss: 4.8628849827948257e-05\n"
          ]
        },
        {
          "name": "stderr",
          "output_type": "stream",
          "text": [
            "100%|██████████| 782/782 [00:15<00:00, 51.16it/s]\n"
          ]
        },
        {
          "name": "stdout",
          "output_type": "stream",
          "text": [
            "DIP Epoch [10/10], Loss: 3.640971172361976e-05\n"
          ]
        },
        {
          "name": "stderr",
          "output_type": "stream",
          "text": [
            "100%|██████████| 782/782 [00:53<00:00, 14.75it/s]\n"
          ]
        },
        {
          "name": "stdout",
          "output_type": "stream",
          "text": [
            "DDPM Epoch [1/10], Loss: 0.008249366287867922\n"
          ]
        },
        {
          "name": "stderr",
          "output_type": "stream",
          "text": [
            "100%|██████████| 782/782 [00:53<00:00, 14.63it/s]\n"
          ]
        },
        {
          "name": "stdout",
          "output_type": "stream",
          "text": [
            "DDPM Epoch [2/10], Loss: 0.0008876090100400693\n"
          ]
        },
        {
          "name": "stderr",
          "output_type": "stream",
          "text": [
            "100%|██████████| 782/782 [00:52<00:00, 14.90it/s]\n"
          ]
        },
        {
          "name": "stdout",
          "output_type": "stream",
          "text": [
            "DDPM Epoch [3/10], Loss: 0.0005441964810329747\n"
          ]
        },
        {
          "name": "stderr",
          "output_type": "stream",
          "text": [
            "100%|██████████| 782/782 [00:52<00:00, 15.00it/s]\n"
          ]
        },
        {
          "name": "stdout",
          "output_type": "stream",
          "text": [
            "DDPM Epoch [4/10], Loss: 0.0004264237553718925\n"
          ]
        },
        {
          "name": "stderr",
          "output_type": "stream",
          "text": [
            "100%|██████████| 782/782 [00:51<00:00, 15.08it/s]\n"
          ]
        },
        {
          "name": "stdout",
          "output_type": "stream",
          "text": [
            "DDPM Epoch [5/10], Loss: 0.00035701684974459396\n"
          ]
        },
        {
          "name": "stderr",
          "output_type": "stream",
          "text": [
            "100%|██████████| 782/782 [00:52<00:00, 14.94it/s]\n"
          ]
        },
        {
          "name": "stdout",
          "output_type": "stream",
          "text": [
            "DDPM Epoch [6/10], Loss: 0.00033497811664974996\n"
          ]
        },
        {
          "name": "stderr",
          "output_type": "stream",
          "text": [
            "100%|██████████| 782/782 [00:52<00:00, 14.98it/s]\n"
          ]
        },
        {
          "name": "stdout",
          "output_type": "stream",
          "text": [
            "DDPM Epoch [7/10], Loss: 0.00032420140219783253\n"
          ]
        },
        {
          "name": "stderr",
          "output_type": "stream",
          "text": [
            "100%|██████████| 782/782 [00:52<00:00, 14.77it/s]\n"
          ]
        },
        {
          "name": "stdout",
          "output_type": "stream",
          "text": [
            "DDPM Epoch [8/10], Loss: 0.00029931001567757865\n"
          ]
        },
        {
          "name": "stderr",
          "output_type": "stream",
          "text": [
            "100%|██████████| 782/782 [00:52<00:00, 14.87it/s]\n"
          ]
        },
        {
          "name": "stdout",
          "output_type": "stream",
          "text": [
            "DDPM Epoch [9/10], Loss: 0.00027951569411569557\n"
          ]
        },
        {
          "name": "stderr",
          "output_type": "stream",
          "text": [
            "100%|██████████| 782/782 [00:52<00:00, 14.77it/s]\n",
            "WARNING:matplotlib.image:Clipping input data to the valid range for imshow with RGB data ([0..1] for floats or [0..255] for integers).\n",
            "WARNING:matplotlib.image:Clipping input data to the valid range for imshow with RGB data ([0..1] for floats or [0..255] for integers).\n"
          ]
        },
        {
          "name": "stdout",
          "output_type": "stream",
          "text": [
            "DDPM Epoch [10/10], Loss: 0.0002892012752084475\n"
          ]
        },
        {
          "data": {
            "image/png": "[encoded data removed]",
            "text/plain": [
              "<Figure size 800x400 with 2 Axes>"
            ]
          },
          "metadata": {},
          "output_type": "display_data"
        },
        {
          "name": "stdout",
          "output_type": "stream",
          "text": [
            "PSNR: 29.704530347304974\n",
            "SSIM: 0.9425709843635559\n"
          ]
        },
        {
          "name": "stderr",
          "output_type": "stream",
          "text": [
            "<ipython-input-13-861ada72d283>:143: FutureWarning: `multichannel` is a deprecated argument name for `structural_similarity`. It will be removed in version 1.0. Please use `channel_axis` instead.\n",
            "  ssim_value = ssim(torch.clone(test_image).cpu().permute(1, 2, 0).numpy(),\n"
          ]
        }
      ],
      "source": [
        "# Using DDPM + DIP\n",
        "import torch\n",
        "import torch.nn as nn\n",
        "import torch.optim as optim\n",
        "import torchvision\n",
        "import torchvision.transforms as transforms\n",
        "from torch.utils.data import DataLoader\n",
        "from tqdm import tqdm\n",
        "\n",
        "# Step 1: Define DIP Model\n",
        "class DIP(nn.Module):\n",
        "    def __init__(self, channels):\n",
        "        super(DIP, self).__init__()\n",
        "        self.net = nn.Sequential(\n",
        "            nn.Conv2d(channels, channels, kernel_size=3, padding=1),\n",
        "            nn.ReLU(),\n",
        "            nn.Conv2d(channels, channels, kernel_size=3, padding=1)\n",
        "        )\n",
        "\n",
        "    def forward(self, x):\n",
        "        return self.net(x)\n",
        "\n",
        "# Step 2: Define DDPM Model\n",
        "class DDPMBlock(nn.Module):\n",
        "    def __init__(self, channels, noise_schedule):\n",
        "        super(DDPMBlock, self).__init__()\n",
        "        self.net = nn.Sequential(\n",
        "            nn.Conv2d(channels, channels, kernel_size=3, padding=1),\n",
        "            nn.ReLU(),\n",
        "            nn.Conv2d(channels, channels, kernel_size=3, padding=1)\n",
        "        )\n",
        "        self.sigma_schedule = nn.Parameter(torch.tensor(noise_schedule), requires_grad=False)\n",
        "\n",
        "    def forward(self, x, t):\n",
        "        sigma_t = self.sigma_schedule[t]\n",
        "        noise = torch.randn_like(x) * sigma_t\n",
        "        return x + noise - self.net(x)\n",
        "\n",
        "class DDPM(nn.Module):\n",
        "    def __init__(self, num_blocks, channels, noise_schedule):\n",
        "        super(DDPM, self).__init__()\n",
        "        self.blocks = nn.ModuleList([DDPMBlock(channels, noise_schedule) for _ in range(num_blocks)])\n",
        "\n",
        "    def forward(self, x, t):\n",
        "        for block in self.blocks:\n",
        "            x = block(x, t)\n",
        "        return x\n",
        "\n",
        "# Step 3: Preprocess CIFAR-10 Dataset\n",
        "transform = transforms.Compose([\n",
        "    transforms.ToTensor(),\n",
        "    transforms.Normalize((0.5, 0.5, 0.5), (0.5, 0.5, 0.5)) # Normalize to [-1, 1]\n",
        "])\n",
        "\n",
        "trainset = torchvision.datasets.CIFAR10(root='./data', train=True, download=True, transform=transform)\n",
        "trainloader = DataLoader(trainset, batch_size=64, shuffle=True)\n",
        "\n",
        "# Step 4: Initialize DIP Model, Loss, and Optimizer\n",
        "device = torch.device(\"cuda\" if torch.cuda.is_available() else \"cpu\")\n",
        "\n",
        "channels = 3  # For RGB images\n",
        "dip_model = DIP(channels).to(device)\n",
        "dip_criterion = nn.MSELoss()\n",
        "dip_optimizer = optim.Adam(dip_model.parameters(), lr=0.001)\n",
        "\n",
        "# Step 5: Pre-training DIP Model\n",
        "num_dip_epochs = 10\n",
        "for epoch in range(num_dip_epochs):\n",
        "    dip_model.train()\n",
        "    running_loss = 0.0\n",
        "    for inputs, _ in tqdm(trainloader):\n",
        "        inputs = inputs.to(device)\n",
        "        dip_optimizer.zero_grad()\n",
        "        outputs = dip_model(inputs)\n",
        "        loss = dip_criterion(outputs, inputs)\n",
        "        loss.backward()\n",
        "        dip_optimizer.step()\n",
        "        running_loss += loss.item()\n",
        "    print(f\"DIP Epoch [{epoch+1}/{num_dip_epochs}], Loss: {running_loss/len(trainloader)}\")\n",
        "\n",
        "# Step 6: Fine-tuning DIP Model using DDPM\n",
        "num_blocks = 10\n",
        "noise_schedule = [0.01 * (i / 1000) for i in range(1000)]  # Example noise schedule\n",
        "ddpm_model = DDPM(num_blocks, channels, noise_schedule).to(device)\n",
        "ddpm_criterion = nn.MSELoss()\n",
        "ddpm_optimizer = optim.Adam(ddpm_model.parameters(), lr=0.001)\n",
        "\n",
        "# Freeze DIP model parameters\n",
        "for param in dip_model.parameters():\n",
        "    param.requires_grad = False\n",
        "\n",
        "# Step 7: Fine-tuning Loop\n",
        "num_ddpm_epochs = 10\n",
        "for epoch in range(num_ddpm_epochs):\n",
        "    ddpm_model.train()\n",
        "    running_loss = 0.0\n",
        "    for inputs, _ in tqdm(trainloader):\n",
        "        inputs = inputs.to(device)\n",
        "        ddpm_optimizer.zero_grad()\n",
        "\n",
        "        # Forward pass through DIP model\n",
        "        with torch.no_grad():\n",
        "            dip_outputs = dip_model(inputs)\n",
        "\n",
        "        # Forward pass through DDPM model\n",
        "        ddpm_outputs = ddpm_model(dip_outputs, t=torch.randint(0, len(noise_schedule), (1,)).item())\n",
        "\n",
        "        # Compute loss\n",
        "        loss = ddpm_criterion(ddpm_outputs, inputs)\n",
        "\n",
        "        # Backward pass and optimization\n",
        "        loss.backward()\n",
        "        ddpm_optimizer.step()\n",
        "\n",
        "        running_loss += loss.item()\n",
        "    print(f\"DDPM Epoch [{epoch+1}/{num_ddpm_epochs}], Loss: {running_loss/len(trainloader)}\")\n",
        "\n",
        "# Step 8: Evaluation and Sample Generation\n",
        "def denoise_image(model, image, num_steps=10):\n",
        "    model.eval()\n",
        "    with torch.no_grad():\n",
        "        x = image.unsqueeze(0).to(device)\n",
        "        for t in range(num_steps):\n",
        "            x = model(x, t=torch.randint(0, len(noise_schedule), (1,)).item())\n",
        "    return x.cpu().squeeze(0)\n",
        "\n",
        "# Choose a random image from the dataset for evaluation\n",
        "test_image, _ = trainset[0]\n",
        "denoised_image = denoise_image(ddpm_model, test_image)\n",
        "\n",
        "# Plot original and denoised images\n",
        "plt.figure(figsize=(8, 4))\n",
        "plt.subplot(1, 2, 1)\n",
        "plt.title('Original Image')\n",
        "plt.imshow(test_image.permute(1, 2, 0))\n",
        "plt.subplot(1, 2, 2)\n",
        "plt.title('Denoised Image')\n",
        "plt.imshow(denoised_image.permute(1, 2, 0))\n",
        "plt.show()\n",
        "\n",
        "# Calculate PSNR and SSIM\n",
        "psnr_value = psnr(torch.clone(test_image).cpu().permute(1, 2, 0).numpy(),\n",
        "                  denoised_image.cpu().permute(1, 2, 0).numpy())\n",
        "ssim_value = ssim(torch.clone(test_image).cpu().permute(1, 2, 0).numpy(),\n",
        "                  denoised_image.cpu().permute(1, 2, 0).numpy(), multichannel=True)\n",
        "\n",
        "print(f\"PSNR: {psnr_value}\")\n",
        "print(f\"SSIM: {ssim_value}\")"
      ]
    },
    {
      "cell_type": "markdown",
      "metadata": {
        "id": "0WYdb2BozUYp"
      },
      "source": [
        "DIP + DDPM, Fine-tuning Experiments"
      ]
    },
    {
      "cell_type": "markdown",
      "metadata": {
        "id": "DIO5Hcw-ztAU"
      },
      "source": [
        "(1)Exp1-1: DDPM's lr=0.01"
      ]
    },
    {
      "cell_type": "code",
      "execution_count": 4,
      "metadata": {
        "colab": {
          "base_uri": "https://localhost:8080/",
          "height": 1000
        },
        "id": "RlcyA2SCzTUq",
        "outputId": "d5c945f6-858c-456b-8a75-5a5e56e6af70"
      },
      "outputs": [
        {
          "name": "stdout",
          "output_type": "stream",
          "text": [
            "Files already downloaded and verified\n"
          ]
        },
        {
          "name": "stderr",
          "output_type": "stream",
          "text": [
            "100%|██████████| 782/782 [00:15<00:00, 51.20it/s]\n"
          ]
        },
        {
          "name": "stdout",
          "output_type": "stream",
          "text": [
            "DIP Epoch [1/10], Loss: 0.03856143668589308\n"
          ]
        },
        {
          "name": "stderr",
          "output_type": "stream",
          "text": [
            "100%|██████████| 782/782 [00:15<00:00, 50.85it/s]\n"
          ]
        },
        {
          "name": "stdout",
          "output_type": "stream",
          "text": [
            "DIP Epoch [2/10], Loss: 0.009587470784454662\n"
          ]
        },
        {
          "name": "stderr",
          "output_type": "stream",
          "text": [
            "100%|██████████| 782/782 [00:15<00:00, 51.14it/s]\n"
          ]
        },
        {
          "name": "stdout",
          "output_type": "stream",
          "text": [
            "DIP Epoch [3/10], Loss: 0.006341464243486257\n"
          ]
        },
        {
          "name": "stderr",
          "output_type": "stream",
          "text": [
            "100%|██████████| 782/782 [00:15<00:00, 51.34it/s]\n"
          ]
        },
        {
          "name": "stdout",
          "output_type": "stream",
          "text": [
            "DIP Epoch [4/10], Loss: 0.004851650262949393\n"
          ]
        },
        {
          "name": "stderr",
          "output_type": "stream",
          "text": [
            "100%|██████████| 782/782 [00:15<00:00, 51.38it/s]\n"
          ]
        },
        {
          "name": "stdout",
          "output_type": "stream",
          "text": [
            "DIP Epoch [5/10], Loss: 0.004340144931255361\n"
          ]
        },
        {
          "name": "stderr",
          "output_type": "stream",
          "text": [
            "100%|██████████| 782/782 [00:15<00:00, 51.00it/s]\n"
          ]
        },
        {
          "name": "stdout",
          "output_type": "stream",
          "text": [
            "DIP Epoch [6/10], Loss: 0.004133613425535638\n"
          ]
        },
        {
          "name": "stderr",
          "output_type": "stream",
          "text": [
            "100%|██████████| 782/782 [00:15<00:00, 51.16it/s]\n"
          ]
        },
        {
          "name": "stdout",
          "output_type": "stream",
          "text": [
            "DIP Epoch [7/10], Loss: 0.0040345588787411195\n"
          ]
        },
        {
          "name": "stderr",
          "output_type": "stream",
          "text": [
            "100%|██████████| 782/782 [00:15<00:00, 52.00it/s]\n"
          ]
        },
        {
          "name": "stdout",
          "output_type": "stream",
          "text": [
            "DIP Epoch [8/10], Loss: 0.00398807764848899\n"
          ]
        },
        {
          "name": "stderr",
          "output_type": "stream",
          "text": [
            "100%|██████████| 782/782 [00:15<00:00, 51.64it/s]\n"
          ]
        },
        {
          "name": "stdout",
          "output_type": "stream",
          "text": [
            "DIP Epoch [9/10], Loss: 0.003951997310399552\n"
          ]
        },
        {
          "name": "stderr",
          "output_type": "stream",
          "text": [
            "100%|██████████| 782/782 [00:15<00:00, 51.59it/s]\n"
          ]
        },
        {
          "name": "stdout",
          "output_type": "stream",
          "text": [
            "DIP Epoch [10/10], Loss: 0.003933402958124771\n"
          ]
        },
        {
          "name": "stderr",
          "output_type": "stream",
          "text": [
            "100%|██████████| 782/782 [00:51<00:00, 15.08it/s]\n"
          ]
        },
        {
          "name": "stdout",
          "output_type": "stream",
          "text": [
            "DDPM Epoch [1/10], Loss: 0.005326916957321718\n"
          ]
        },
        {
          "name": "stderr",
          "output_type": "stream",
          "text": [
            "100%|██████████| 782/782 [00:51<00:00, 15.11it/s]\n"
          ]
        },
        {
          "name": "stdout",
          "output_type": "stream",
          "text": [
            "DDPM Epoch [2/10], Loss: 0.0040157547216419405\n"
          ]
        },
        {
          "name": "stderr",
          "output_type": "stream",
          "text": [
            "100%|██████████| 782/782 [00:52<00:00, 14.87it/s]\n"
          ]
        },
        {
          "name": "stdout",
          "output_type": "stream",
          "text": [
            "DDPM Epoch [3/10], Loss: 0.003945877625490241\n"
          ]
        },
        {
          "name": "stderr",
          "output_type": "stream",
          "text": [
            "100%|██████████| 782/782 [00:52<00:00, 15.01it/s]\n"
          ]
        },
        {
          "name": "stdout",
          "output_type": "stream",
          "text": [
            "DDPM Epoch [4/10], Loss: 0.0037740369629867547\n"
          ]
        },
        {
          "name": "stderr",
          "output_type": "stream",
          "text": [
            "100%|██████████| 782/782 [00:52<00:00, 14.84it/s]\n"
          ]
        },
        {
          "name": "stdout",
          "output_type": "stream",
          "text": [
            "DDPM Epoch [5/10], Loss: 0.0038189393737058028\n"
          ]
        },
        {
          "name": "stderr",
          "output_type": "stream",
          "text": [
            "100%|██████████| 782/782 [00:52<00:00, 14.95it/s]\n"
          ]
        },
        {
          "name": "stdout",
          "output_type": "stream",
          "text": [
            "DDPM Epoch [6/10], Loss: 0.003805826974870718\n"
          ]
        },
        {
          "name": "stderr",
          "output_type": "stream",
          "text": [
            "100%|██████████| 782/782 [00:52<00:00, 14.87it/s]\n"
          ]
        },
        {
          "name": "stdout",
          "output_type": "stream",
          "text": [
            "DDPM Epoch [7/10], Loss: 0.0037938869014010786\n"
          ]
        },
        {
          "name": "stderr",
          "output_type": "stream",
          "text": [
            "100%|██████████| 782/782 [00:52<00:00, 14.84it/s]\n"
          ]
        },
        {
          "name": "stdout",
          "output_type": "stream",
          "text": [
            "DDPM Epoch [8/10], Loss: 0.003818812113448196\n"
          ]
        },
        {
          "name": "stderr",
          "output_type": "stream",
          "text": [
            "100%|██████████| 782/782 [00:53<00:00, 14.51it/s]\n"
          ]
        },
        {
          "name": "stdout",
          "output_type": "stream",
          "text": [
            "DDPM Epoch [9/10], Loss: 0.003814045133490754\n"
          ]
        },
        {
          "name": "stderr",
          "output_type": "stream",
          "text": [
            "100%|██████████| 782/782 [00:53<00:00, 14.62it/s]\n",
            "WARNING:matplotlib.image:Clipping input data to the valid range for imshow with RGB data ([0..1] for floats or [0..255] for integers).\n"
          ]
        },
        {
          "name": "stdout",
          "output_type": "stream",
          "text": [
            "DDPM Epoch [10/10], Loss: 0.004008512848111636\n"
          ]
        },
        {
          "name": "stderr",
          "output_type": "stream",
          "text": [
            "WARNING:matplotlib.image:Clipping input data to the valid range for imshow with RGB data ([0..1] for floats or [0..255] for integers).\n"
          ]
        },
        {
          "data": {
            "image/png": "[encoded data removed]",
            "text/plain": [
              "<Figure size 800x400 with 2 Axes>"
            ]
          },
          "metadata": {},
          "output_type": "display_data"
        },
        {
          "name": "stdout",
          "output_type": "stream",
          "text": [
            "PSNR: 28.205482938237747\n",
            "SSIM: 0.8151518702507019\n"
          ]
        },
        {
          "name": "stderr",
          "output_type": "stream",
          "text": [
            "<ipython-input-4-3a1bd289fa5b>:143: FutureWarning: `multichannel` is a deprecated argument name for `structural_similarity`. It will be removed in version 1.0. Please use `channel_axis` instead.\n",
            "  ssim_value = ssim(torch.clone(test_image).cpu().permute(1, 2, 0).numpy(),\n"
          ]
        }
      ],
      "source": [
        "import torch\n",
        "import torch.nn as nn\n",
        "import torch.optim as optim\n",
        "import torchvision\n",
        "import torchvision.transforms as transforms\n",
        "from torch.utils.data import DataLoader\n",
        "from tqdm import tqdm\n",
        "\n",
        "# Step 1: Define DIP Model\n",
        "class DIP(nn.Module):\n",
        "    def __init__(self, channels):\n",
        "        super(DIP, self).__init__()\n",
        "        self.net = nn.Sequential(\n",
        "            nn.Conv2d(channels, channels, kernel_size=3, padding=1),\n",
        "            nn.ReLU(),\n",
        "            nn.Conv2d(channels, channels, kernel_size=3, padding=1)\n",
        "        )\n",
        "\n",
        "    def forward(self, x):\n",
        "        return self.net(x)\n",
        "\n",
        "# Step 2: Define DDPM Model\n",
        "class DDPMBlock(nn.Module):\n",
        "    def __init__(self, channels, noise_schedule):\n",
        "        super(DDPMBlock, self).__init__()\n",
        "        self.net = nn.Sequential(\n",
        "            nn.Conv2d(channels, channels, kernel_size=3, padding=1),\n",
        "            nn.ReLU(),\n",
        "            nn.Conv2d(channels, channels, kernel_size=3, padding=1)\n",
        "        )\n",
        "        self.sigma_schedule = nn.Parameter(torch.tensor(noise_schedule), requires_grad=False)\n",
        "\n",
        "    def forward(self, x, t):\n",
        "        sigma_t = self.sigma_schedule[t]\n",
        "        noise = torch.randn_like(x) * sigma_t\n",
        "        return x + noise - self.net(x)\n",
        "\n",
        "class DDPM(nn.Module):\n",
        "    def __init__(self, num_blocks, channels, noise_schedule):\n",
        "        super(DDPM, self).__init__()\n",
        "        self.blocks = nn.ModuleList([DDPMBlock(channels, noise_schedule) for _ in range(num_blocks)])\n",
        "\n",
        "    def forward(self, x, t):\n",
        "        for block in self.blocks:\n",
        "            x = block(x, t)\n",
        "        return x\n",
        "\n",
        "# Step 3: Preprocess CIFAR-10 Dataset\n",
        "transform = transforms.Compose([\n",
        "    transforms.ToTensor(),\n",
        "    transforms.Normalize((0.5, 0.5, 0.5), (0.5, 0.5, 0.5)) # Normalize to [-1, 1]\n",
        "])\n",
        "\n",
        "trainset = torchvision.datasets.CIFAR10(root='./data', train=True, download=True, transform=transform)\n",
        "trainloader = DataLoader(trainset, batch_size=64, shuffle=True)\n",
        "\n",
        "# Step 4: Initialize DIP Model, Loss, and Optimizer\n",
        "device = torch.device(\"cuda\" if torch.cuda.is_available() else \"cpu\")\n",
        "\n",
        "channels = 3  # For RGB images\n",
        "dip_model = DIP(channels).to(device)\n",
        "dip_criterion = nn.MSELoss()\n",
        "dip_optimizer = optim.Adam(dip_model.parameters(), lr=0.001)\n",
        "\n",
        "# Step 5: Pre-training DIP Model\n",
        "num_dip_epochs = 10\n",
        "for epoch in range(num_dip_epochs):\n",
        "    dip_model.train()\n",
        "    running_loss = 0.0\n",
        "    for inputs, _ in tqdm(trainloader):\n",
        "        inputs = inputs.to(device)\n",
        "        dip_optimizer.zero_grad()\n",
        "        outputs = dip_model(inputs)\n",
        "        loss = dip_criterion(outputs, inputs)\n",
        "        loss.backward()\n",
        "        dip_optimizer.step()\n",
        "        running_loss += loss.item()\n",
        "    print(f\"DIP Epoch [{epoch+1}/{num_dip_epochs}], Loss: {running_loss/len(trainloader)}\")\n",
        "\n",
        "# Step 6: Fine-tuning DIP Model using DDPM\n",
        "num_blocks = 10\n",
        "noise_schedule = [0.01 * (i / 1000) for i in range(1000)]  # Example noise schedule\n",
        "ddpm_model = DDPM(num_blocks, channels, noise_schedule).to(device)\n",
        "ddpm_criterion = nn.MSELoss()\n",
        "ddpm_optimizer = optim.Adam(ddpm_model.parameters(), lr=0.01)\n",
        "\n",
        "# Freeze DIP model parameters\n",
        "for param in dip_model.parameters():\n",
        "    param.requires_grad = False\n",
        "\n",
        "# Step 7: Fine-tuning Loop\n",
        "num_ddpm_epochs = 10\n",
        "for epoch in range(num_ddpm_epochs):\n",
        "    ddpm_model.train()\n",
        "    running_loss = 0.0\n",
        "    for inputs, _ in tqdm(trainloader):\n",
        "        inputs = inputs.to(device)\n",
        "        ddpm_optimizer.zero_grad()\n",
        "\n",
        "        # Forward pass through DIP model\n",
        "        with torch.no_grad():\n",
        "            dip_outputs = dip_model(inputs)\n",
        "\n",
        "        # Forward pass through DDPM model\n",
        "        ddpm_outputs = ddpm_model(dip_outputs, t=torch.randint(0, len(noise_schedule), (1,)).item())\n",
        "\n",
        "        # Compute loss\n",
        "        loss = ddpm_criterion(ddpm_outputs, inputs)\n",
        "\n",
        "        # Backward pass and optimization\n",
        "        loss.backward()\n",
        "        ddpm_optimizer.step()\n",
        "\n",
        "        running_loss += loss.item()\n",
        "    print(f\"DDPM Epoch [{epoch+1}/{num_ddpm_epochs}], Loss: {running_loss/len(trainloader)}\")\n",
        "\n",
        "# Step 8: Evaluation and Sample Generation\n",
        "def denoise_image(model, image, num_steps=10):\n",
        "    model.eval()\n",
        "    with torch.no_grad():\n",
        "        x = image.unsqueeze(0).to(device)\n",
        "        for t in range(num_steps):\n",
        "            x = model(x, t=torch.randint(0, len(noise_schedule), (1,)).item())\n",
        "    return x.cpu().squeeze(0)\n",
        "\n",
        "# Choose a random image from the dataset for evaluation\n",
        "test_image, _ = trainset[0]\n",
        "denoised_image = denoise_image(ddpm_model, test_image)\n",
        "\n",
        "# Plot original and denoised images\n",
        "plt.figure(figsize=(8, 4))\n",
        "plt.subplot(1, 2, 1)\n",
        "plt.title('Original Image')\n",
        "plt.imshow(test_image.permute(1, 2, 0))\n",
        "plt.subplot(1, 2, 2)\n",
        "plt.title('Denoised Image')\n",
        "plt.imshow(denoised_image.permute(1, 2, 0))\n",
        "plt.show()\n",
        "\n",
        "# Calculate PSNR and SSIM\n",
        "psnr_value = psnr(torch.clone(test_image).cpu().permute(1, 2, 0).numpy(),\n",
        "                  denoised_image.cpu().permute(1, 2, 0).numpy())\n",
        "ssim_value = ssim(torch.clone(test_image).cpu().permute(1, 2, 0).numpy(),\n",
        "                  denoised_image.cpu().permute(1, 2, 0).numpy(), multichannel=True)\n",
        "\n",
        "print(f\"PSNR: {psnr_value}\")\n",
        "print(f\"SSIM: {ssim_value}\")"
      ]
    },
    {
      "cell_type": "markdown",
      "metadata": {
        "id": "QvstJjjnzTJP"
      },
      "source": [
        "(2)Exp1-2: Both DIP and DDPM -> lr=0.01"
      ]
    },
    {
      "cell_type": "code",
      "execution_count": 5,
      "metadata": {
        "colab": {
          "base_uri": "https://localhost:8080/",
          "height": 1000
        },
        "id": "3KUgtDrR2WYG",
        "outputId": "cfb20831-4b28-42d4-f242-23daa63ade2d"
      },
      "outputs": [
        {
          "name": "stdout",
          "output_type": "stream",
          "text": [
            "Files already downloaded and verified\n"
          ]
        },
        {
          "name": "stderr",
          "output_type": "stream",
          "text": [
            "100%|██████████| 782/782 [00:15<00:00, 51.17it/s]\n"
          ]
        },
        {
          "name": "stdout",
          "output_type": "stream",
          "text": [
            "DIP Epoch [1/10], Loss: 0.010833212427254242\n"
          ]
        },
        {
          "name": "stderr",
          "output_type": "stream",
          "text": [
            "100%|██████████| 782/782 [00:15<00:00, 50.92it/s]\n"
          ]
        },
        {
          "name": "stdout",
          "output_type": "stream",
          "text": [
            "DIP Epoch [2/10], Loss: 0.004191741366665858\n"
          ]
        },
        {
          "name": "stderr",
          "output_type": "stream",
          "text": [
            "100%|██████████| 782/782 [00:15<00:00, 50.97it/s]\n"
          ]
        },
        {
          "name": "stdout",
          "output_type": "stream",
          "text": [
            "DIP Epoch [3/10], Loss: 0.004039593850788863\n"
          ]
        },
        {
          "name": "stderr",
          "output_type": "stream",
          "text": [
            "100%|██████████| 782/782 [00:15<00:00, 51.09it/s]\n"
          ]
        },
        {
          "name": "stdout",
          "output_type": "stream",
          "text": [
            "DIP Epoch [4/10], Loss: 0.0040357173776285026\n"
          ]
        },
        {
          "name": "stderr",
          "output_type": "stream",
          "text": [
            "100%|██████████| 782/782 [00:15<00:00, 50.56it/s]\n"
          ]
        },
        {
          "name": "stdout",
          "output_type": "stream",
          "text": [
            "DIP Epoch [5/10], Loss: 0.00403301366854964\n"
          ]
        },
        {
          "name": "stderr",
          "output_type": "stream",
          "text": [
            "100%|██████████| 782/782 [00:15<00:00, 51.10it/s]\n"
          ]
        },
        {
          "name": "stdout",
          "output_type": "stream",
          "text": [
            "DIP Epoch [6/10], Loss: 0.004001858744971559\n"
          ]
        },
        {
          "name": "stderr",
          "output_type": "stream",
          "text": [
            "100%|██████████| 782/782 [00:15<00:00, 51.34it/s]\n"
          ]
        },
        {
          "name": "stdout",
          "output_type": "stream",
          "text": [
            "DIP Epoch [7/10], Loss: 0.003973958050043744\n"
          ]
        },
        {
          "name": "stderr",
          "output_type": "stream",
          "text": [
            "100%|██████████| 782/782 [00:15<00:00, 51.25it/s]\n"
          ]
        },
        {
          "name": "stdout",
          "output_type": "stream",
          "text": [
            "DIP Epoch [8/10], Loss: 0.0039807938441546046\n"
          ]
        },
        {
          "name": "stderr",
          "output_type": "stream",
          "text": [
            "100%|██████████| 782/782 [00:15<00:00, 51.12it/s]\n"
          ]
        },
        {
          "name": "stdout",
          "output_type": "stream",
          "text": [
            "DIP Epoch [9/10], Loss: 0.003995823814138256\n"
          ]
        },
        {
          "name": "stderr",
          "output_type": "stream",
          "text": [
            "100%|██████████| 782/782 [00:15<00:00, 51.64it/s]\n"
          ]
        },
        {
          "name": "stdout",
          "output_type": "stream",
          "text": [
            "DIP Epoch [10/10], Loss: 0.004006820943449502\n"
          ]
        },
        {
          "name": "stderr",
          "output_type": "stream",
          "text": [
            "100%|██████████| 782/782 [00:53<00:00, 14.51it/s]\n"
          ]
        },
        {
          "name": "stdout",
          "output_type": "stream",
          "text": [
            "DDPM Epoch [1/10], Loss: 0.005956944163955386\n"
          ]
        },
        {
          "name": "stderr",
          "output_type": "stream",
          "text": [
            "100%|██████████| 782/782 [00:53<00:00, 14.68it/s]\n"
          ]
        },
        {
          "name": "stdout",
          "output_type": "stream",
          "text": [
            "DDPM Epoch [2/10], Loss: 0.0038072485137311623\n"
          ]
        },
        {
          "name": "stderr",
          "output_type": "stream",
          "text": [
            "100%|██████████| 782/782 [00:53<00:00, 14.53it/s]\n"
          ]
        },
        {
          "name": "stdout",
          "output_type": "stream",
          "text": [
            "DDPM Epoch [3/10], Loss: 0.0037052962432384414\n"
          ]
        },
        {
          "name": "stderr",
          "output_type": "stream",
          "text": [
            "100%|██████████| 782/782 [00:53<00:00, 14.64it/s]\n"
          ]
        },
        {
          "name": "stdout",
          "output_type": "stream",
          "text": [
            "DDPM Epoch [4/10], Loss: 0.0036557061497069646\n"
          ]
        },
        {
          "name": "stderr",
          "output_type": "stream",
          "text": [
            "100%|██████████| 782/782 [00:53<00:00, 14.50it/s]\n"
          ]
        },
        {
          "name": "stdout",
          "output_type": "stream",
          "text": [
            "DDPM Epoch [5/10], Loss: 0.0036449150577999765\n"
          ]
        },
        {
          "name": "stderr",
          "output_type": "stream",
          "text": [
            "100%|██████████| 782/782 [00:53<00:00, 14.50it/s]\n"
          ]
        },
        {
          "name": "stdout",
          "output_type": "stream",
          "text": [
            "DDPM Epoch [6/10], Loss: 0.0036782472940159443\n"
          ]
        },
        {
          "name": "stderr",
          "output_type": "stream",
          "text": [
            "100%|██████████| 782/782 [00:53<00:00, 14.51it/s]\n"
          ]
        },
        {
          "name": "stdout",
          "output_type": "stream",
          "text": [
            "DDPM Epoch [7/10], Loss: 0.0036424843033494624\n"
          ]
        },
        {
          "name": "stderr",
          "output_type": "stream",
          "text": [
            "100%|██████████| 782/782 [00:53<00:00, 14.72it/s]\n"
          ]
        },
        {
          "name": "stdout",
          "output_type": "stream",
          "text": [
            "DDPM Epoch [8/10], Loss: 0.0038023187443637827\n"
          ]
        },
        {
          "name": "stderr",
          "output_type": "stream",
          "text": [
            "100%|██████████| 782/782 [00:53<00:00, 14.69it/s]\n"
          ]
        },
        {
          "name": "stdout",
          "output_type": "stream",
          "text": [
            "DDPM Epoch [9/10], Loss: 0.0037465723394594914\n"
          ]
        },
        {
          "name": "stderr",
          "output_type": "stream",
          "text": [
            "100%|██████████| 782/782 [00:53<00:00, 14.58it/s]\n",
            "WARNING:matplotlib.image:Clipping input data to the valid range for imshow with RGB data ([0..1] for floats or [0..255] for integers).\n",
            "WARNING:matplotlib.image:Clipping input data to the valid range for imshow with RGB data ([0..1] for floats or [0..255] for integers).\n"
          ]
        },
        {
          "name": "stdout",
          "output_type": "stream",
          "text": [
            "DDPM Epoch [10/10], Loss: 0.0037246099711917436\n"
          ]
        },
        {
          "data": {
            "image/png": "[encoded data removed]",
            "text/plain": [
              "<Figure size 800x400 with 2 Axes>"
            ]
          },
          "metadata": {},
          "output_type": "display_data"
        },
        {
          "name": "stdout",
          "output_type": "stream",
          "text": [
            "PSNR: 26.85258582596889\n",
            "SSIM: 0.8381494879722595\n"
          ]
        },
        {
          "name": "stderr",
          "output_type": "stream",
          "text": [
            "<ipython-input-5-536a4f8077e7>:143: FutureWarning: `multichannel` is a deprecated argument name for `structural_similarity`. It will be removed in version 1.0. Please use `channel_axis` instead.\n",
            "  ssim_value = ssim(torch.clone(test_image).cpu().permute(1, 2, 0).numpy(),\n"
          ]
        }
      ],
      "source": [
        "import torch\n",
        "import torch.nn as nn\n",
        "import torch.optim as optim\n",
        "import torchvision\n",
        "import torchvision.transforms as transforms\n",
        "from torch.utils.data import DataLoader\n",
        "from tqdm import tqdm\n",
        "\n",
        "# Step 1: Define DIP Model\n",
        "class DIP(nn.Module):\n",
        "    def __init__(self, channels):\n",
        "        super(DIP, self).__init__()\n",
        "        self.net = nn.Sequential(\n",
        "            nn.Conv2d(channels, channels, kernel_size=3, padding=1),\n",
        "            nn.ReLU(),\n",
        "            nn.Conv2d(channels, channels, kernel_size=3, padding=1)\n",
        "        )\n",
        "\n",
        "    def forward(self, x):\n",
        "        return self.net(x)\n",
        "\n",
        "# Step 2: Define DDPM Model\n",
        "class DDPMBlock(nn.Module):\n",
        "    def __init__(self, channels, noise_schedule):\n",
        "        super(DDPMBlock, self).__init__()\n",
        "        self.net = nn.Sequential(\n",
        "            nn.Conv2d(channels, channels, kernel_size=3, padding=1),\n",
        "            nn.ReLU(),\n",
        "            nn.Conv2d(channels, channels, kernel_size=3, padding=1)\n",
        "        )\n",
        "        self.sigma_schedule = nn.Parameter(torch.tensor(noise_schedule), requires_grad=False)\n",
        "\n",
        "    def forward(self, x, t):\n",
        "        sigma_t = self.sigma_schedule[t]\n",
        "        noise = torch.randn_like(x) * sigma_t\n",
        "        return x + noise - self.net(x)\n",
        "\n",
        "class DDPM(nn.Module):\n",
        "    def __init__(self, num_blocks, channels, noise_schedule):\n",
        "        super(DDPM, self).__init__()\n",
        "        self.blocks = nn.ModuleList([DDPMBlock(channels, noise_schedule) for _ in range(num_blocks)])\n",
        "\n",
        "    def forward(self, x, t):\n",
        "        for block in self.blocks:\n",
        "            x = block(x, t)\n",
        "        return x\n",
        "\n",
        "# Step 3: Preprocess CIFAR-10 Dataset\n",
        "transform = transforms.Compose([\n",
        "    transforms.ToTensor(),\n",
        "    transforms.Normalize((0.5, 0.5, 0.5), (0.5, 0.5, 0.5)) # Normalize to [-1, 1]\n",
        "])\n",
        "\n",
        "trainset = torchvision.datasets.CIFAR10(root='./data', train=True, download=True, transform=transform)\n",
        "trainloader = DataLoader(trainset, batch_size=64, shuffle=True)\n",
        "\n",
        "# Step 4: Initialize DIP Model, Loss, and Optimizer\n",
        "device = torch.device(\"cuda\" if torch.cuda.is_available() else \"cpu\")\n",
        "\n",
        "channels = 3  # For RGB images\n",
        "dip_model = DIP(channels).to(device)\n",
        "dip_criterion = nn.MSELoss()\n",
        "dip_optimizer = optim.Adam(dip_model.parameters(), lr=0.01)\n",
        "\n",
        "# Step 5: Pre-training DIP Model\n",
        "num_dip_epochs = 10\n",
        "for epoch in range(num_dip_epochs):\n",
        "    dip_model.train()\n",
        "    running_loss = 0.0\n",
        "    for inputs, _ in tqdm(trainloader):\n",
        "        inputs = inputs.to(device)\n",
        "        dip_optimizer.zero_grad()\n",
        "        outputs = dip_model(inputs)\n",
        "        loss = dip_criterion(outputs, inputs)\n",
        "        loss.backward()\n",
        "        dip_optimizer.step()\n",
        "        running_loss += loss.item()\n",
        "    print(f\"DIP Epoch [{epoch+1}/{num_dip_epochs}], Loss: {running_loss/len(trainloader)}\")\n",
        "\n",
        "# Step 6: Fine-tuning DIP Model using DDPM\n",
        "num_blocks = 10\n",
        "noise_schedule = [0.01 * (i / 1000) for i in range(1000)]  # Example noise schedule\n",
        "ddpm_model = DDPM(num_blocks, channels, noise_schedule).to(device)\n",
        "ddpm_criterion = nn.MSELoss()\n",
        "ddpm_optimizer = optim.Adam(ddpm_model.parameters(), lr=0.01)\n",
        "\n",
        "# Freeze DIP model parameters\n",
        "for param in dip_model.parameters():\n",
        "    param.requires_grad = False\n",
        "\n",
        "# Step 7: Fine-tuning Loop\n",
        "num_ddpm_epochs = 10\n",
        "for epoch in range(num_ddpm_epochs):\n",
        "    ddpm_model.train()\n",
        "    running_loss = 0.0\n",
        "    for inputs, _ in tqdm(trainloader):\n",
        "        inputs = inputs.to(device)\n",
        "        ddpm_optimizer.zero_grad()\n",
        "\n",
        "        # Forward pass through DIP model\n",
        "        with torch.no_grad():\n",
        "            dip_outputs = dip_model(inputs)\n",
        "\n",
        "        # Forward pass through DDPM model\n",
        "        ddpm_outputs = ddpm_model(dip_outputs, t=torch.randint(0, len(noise_schedule), (1,)).item())\n",
        "\n",
        "        # Compute loss\n",
        "        loss = ddpm_criterion(ddpm_outputs, inputs)\n",
        "\n",
        "        # Backward pass and optimization\n",
        "        loss.backward()\n",
        "        ddpm_optimizer.step()\n",
        "\n",
        "        running_loss += loss.item()\n",
        "    print(f\"DDPM Epoch [{epoch+1}/{num_ddpm_epochs}], Loss: {running_loss/len(trainloader)}\")\n",
        "\n",
        "# Step 8: Evaluation and Sample Generation\n",
        "def denoise_image(model, image, num_steps=10):\n",
        "    model.eval()\n",
        "    with torch.no_grad():\n",
        "        x = image.unsqueeze(0).to(device)\n",
        "        for t in range(num_steps):\n",
        "            x = model(x, t=torch.randint(0, len(noise_schedule), (1,)).item())\n",
        "    return x.cpu().squeeze(0)\n",
        "\n",
        "# Choose a random image from the dataset for evaluation\n",
        "test_image, _ = trainset[0]\n",
        "denoised_image = denoise_image(ddpm_model, test_image)\n",
        "\n",
        "# Plot original and denoised images\n",
        "plt.figure(figsize=(8, 4))\n",
        "plt.subplot(1, 2, 1)\n",
        "plt.title('Original Image')\n",
        "plt.imshow(test_image.permute(1, 2, 0))\n",
        "plt.subplot(1, 2, 2)\n",
        "plt.title('Denoised Image')\n",
        "plt.imshow(denoised_image.permute(1, 2, 0))\n",
        "plt.show()\n",
        "\n",
        "# Calculate PSNR and SSIM\n",
        "psnr_value = psnr(torch.clone(test_image).cpu().permute(1, 2, 0).numpy(),\n",
        "                  denoised_image.cpu().permute(1, 2, 0).numpy())\n",
        "ssim_value = ssim(torch.clone(test_image).cpu().permute(1, 2, 0).numpy(),\n",
        "                  denoised_image.cpu().permute(1, 2, 0).numpy(), multichannel=True)\n",
        "\n",
        "print(f\"PSNR: {psnr_value}\")\n",
        "print(f\"SSIM: {ssim_value}\")"
      ]
    },
    {
      "cell_type": "markdown",
      "metadata": {
        "id": "vsdTteHe7qNd"
      },
      "source": [
        "(3)Exp2-1: Change noise_schedule to Exponential Decay Schedule: noise_schedule = [0.1 * (0.95 ** i) for i in range(1000)]"
      ]
    },
    {
      "cell_type": "code",
      "execution_count": 7,
      "metadata": {
        "colab": {
          "base_uri": "https://localhost:8080/",
          "height": 1000
        },
        "id": "IwC6nxZu7WzO",
        "outputId": "f067695f-097e-44e1-f425-ba8459b41937"
      },
      "outputs": [
        {
          "name": "stdout",
          "output_type": "stream",
          "text": [
            "Files already downloaded and verified\n"
          ]
        },
        {
          "name": "stderr",
          "output_type": "stream",
          "text": [
            "100%|██████████| 782/782 [00:15<00:00, 51.21it/s]\n"
          ]
        },
        {
          "name": "stdout",
          "output_type": "stream",
          "text": [
            "DIP Epoch [1/10], Loss: 0.03206059810779322\n"
          ]
        },
        {
          "name": "stderr",
          "output_type": "stream",
          "text": [
            "100%|██████████| 782/782 [00:15<00:00, 51.02it/s]\n"
          ]
        },
        {
          "name": "stdout",
          "output_type": "stream",
          "text": [
            "DIP Epoch [2/10], Loss: 0.008551322221470153\n"
          ]
        },
        {
          "name": "stderr",
          "output_type": "stream",
          "text": [
            "100%|██████████| 782/782 [00:15<00:00, 51.69it/s]\n"
          ]
        },
        {
          "name": "stdout",
          "output_type": "stream",
          "text": [
            "DIP Epoch [3/10], Loss: 0.005499111770121071\n"
          ]
        },
        {
          "name": "stderr",
          "output_type": "stream",
          "text": [
            "100%|██████████| 782/782 [00:15<00:00, 51.78it/s]\n"
          ]
        },
        {
          "name": "stdout",
          "output_type": "stream",
          "text": [
            "DIP Epoch [4/10], Loss: 0.004517682257842015\n"
          ]
        },
        {
          "name": "stderr",
          "output_type": "stream",
          "text": [
            "100%|██████████| 782/782 [00:15<00:00, 51.90it/s]\n"
          ]
        },
        {
          "name": "stdout",
          "output_type": "stream",
          "text": [
            "DIP Epoch [5/10], Loss: 0.004199829864520532\n"
          ]
        },
        {
          "name": "stderr",
          "output_type": "stream",
          "text": [
            "100%|██████████| 782/782 [00:15<00:00, 51.24it/s]\n"
          ]
        },
        {
          "name": "stdout",
          "output_type": "stream",
          "text": [
            "DIP Epoch [6/10], Loss: 0.004074294586330081\n"
          ]
        },
        {
          "name": "stderr",
          "output_type": "stream",
          "text": [
            "100%|██████████| 782/782 [00:15<00:00, 51.18it/s]\n"
          ]
        },
        {
          "name": "stdout",
          "output_type": "stream",
          "text": [
            "DIP Epoch [7/10], Loss: 0.004007193436453124\n"
          ]
        },
        {
          "name": "stderr",
          "output_type": "stream",
          "text": [
            "100%|██████████| 782/782 [00:15<00:00, 50.88it/s]\n"
          ]
        },
        {
          "name": "stdout",
          "output_type": "stream",
          "text": [
            "DIP Epoch [8/10], Loss: 0.003972290926213946\n"
          ]
        },
        {
          "name": "stderr",
          "output_type": "stream",
          "text": [
            "100%|██████████| 782/782 [00:15<00:00, 51.64it/s]\n"
          ]
        },
        {
          "name": "stdout",
          "output_type": "stream",
          "text": [
            "DIP Epoch [9/10], Loss: 0.003953633870443572\n"
          ]
        },
        {
          "name": "stderr",
          "output_type": "stream",
          "text": [
            "100%|██████████| 782/782 [00:15<00:00, 51.57it/s]\n"
          ]
        },
        {
          "name": "stdout",
          "output_type": "stream",
          "text": [
            "DIP Epoch [10/10], Loss: 0.003928305481321147\n"
          ]
        },
        {
          "name": "stderr",
          "output_type": "stream",
          "text": [
            "100%|██████████| 782/782 [00:53<00:00, 14.55it/s]\n"
          ]
        },
        {
          "name": "stdout",
          "output_type": "stream",
          "text": [
            "DDPM Epoch [1/10], Loss: 0.012162493065456905\n"
          ]
        },
        {
          "name": "stderr",
          "output_type": "stream",
          "text": [
            "100%|██████████| 782/782 [00:54<00:00, 14.39it/s]\n"
          ]
        },
        {
          "name": "stdout",
          "output_type": "stream",
          "text": [
            "DDPM Epoch [2/10], Loss: 0.0051190330437920475\n"
          ]
        },
        {
          "name": "stderr",
          "output_type": "stream",
          "text": [
            "100%|██████████| 782/782 [00:54<00:00, 14.29it/s]\n"
          ]
        },
        {
          "name": "stdout",
          "output_type": "stream",
          "text": [
            "DDPM Epoch [3/10], Loss: 0.00453490221157165\n"
          ]
        },
        {
          "name": "stderr",
          "output_type": "stream",
          "text": [
            "100%|██████████| 782/782 [00:53<00:00, 14.52it/s]\n"
          ]
        },
        {
          "name": "stdout",
          "output_type": "stream",
          "text": [
            "DDPM Epoch [4/10], Loss: 0.004368908279944602\n"
          ]
        },
        {
          "name": "stderr",
          "output_type": "stream",
          "text": [
            "100%|██████████| 782/782 [00:53<00:00, 14.48it/s]\n"
          ]
        },
        {
          "name": "stdout",
          "output_type": "stream",
          "text": [
            "DDPM Epoch [5/10], Loss: 0.004216702446541594\n"
          ]
        },
        {
          "name": "stderr",
          "output_type": "stream",
          "text": [
            "100%|██████████| 782/782 [00:54<00:00, 14.35it/s]\n"
          ]
        },
        {
          "name": "stdout",
          "output_type": "stream",
          "text": [
            "DDPM Epoch [6/10], Loss: 0.004527300678710441\n"
          ]
        },
        {
          "name": "stderr",
          "output_type": "stream",
          "text": [
            "100%|██████████| 782/782 [00:54<00:00, 14.45it/s]\n"
          ]
        },
        {
          "name": "stdout",
          "output_type": "stream",
          "text": [
            "DDPM Epoch [7/10], Loss: 0.004077225765141914\n"
          ]
        },
        {
          "name": "stderr",
          "output_type": "stream",
          "text": [
            "100%|██████████| 782/782 [00:54<00:00, 14.25it/s]\n"
          ]
        },
        {
          "name": "stdout",
          "output_type": "stream",
          "text": [
            "DDPM Epoch [8/10], Loss: 0.003798782748058248\n"
          ]
        },
        {
          "name": "stderr",
          "output_type": "stream",
          "text": [
            "100%|██████████| 782/782 [00:54<00:00, 14.47it/s]\n"
          ]
        },
        {
          "name": "stdout",
          "output_type": "stream",
          "text": [
            "DDPM Epoch [9/10], Loss: 0.004136544890175371\n"
          ]
        },
        {
          "name": "stderr",
          "output_type": "stream",
          "text": [
            "100%|██████████| 782/782 [00:54<00:00, 14.42it/s]\n",
            "WARNING:matplotlib.image:Clipping input data to the valid range for imshow with RGB data ([0..1] for floats or [0..255] for integers).\n",
            "WARNING:matplotlib.image:Clipping input data to the valid range for imshow with RGB data ([0..1] for floats or [0..255] for integers).\n"
          ]
        },
        {
          "name": "stdout",
          "output_type": "stream",
          "text": [
            "DDPM Epoch [10/10], Loss: 0.0039421139778319245\n"
          ]
        },
        {
          "data": {
            "image/png": "[encoded data removed]",
            "text/plain": [
              "<Figure size 800x400 with 2 Axes>"
            ]
          },
          "metadata": {},
          "output_type": "display_data"
        },
        {
          "name": "stdout",
          "output_type": "stream",
          "text": [
            "PSNR: 22.180261632492275\n",
            "SSIM: 0.6513616442680359\n"
          ]
        },
        {
          "name": "stderr",
          "output_type": "stream",
          "text": [
            "<ipython-input-7-957839d368a1>:144: FutureWarning: `multichannel` is a deprecated argument name for `structural_similarity`. It will be removed in version 1.0. Please use `channel_axis` instead.\n",
            "  ssim_value = ssim(torch.clone(test_image).cpu().permute(1, 2, 0).numpy(),\n"
          ]
        }
      ],
      "source": [
        "import torch\n",
        "import torch.nn as nn\n",
        "import torch.optim as optim\n",
        "import torchvision\n",
        "import torchvision.transforms as transforms\n",
        "from torch.utils.data import DataLoader\n",
        "from tqdm import tqdm\n",
        "\n",
        "# Step 1: Define DIP Model\n",
        "class DIP(nn.Module):\n",
        "    def __init__(self, channels):\n",
        "        super(DIP, self).__init__()\n",
        "        self.net = nn.Sequential(\n",
        "            nn.Conv2d(channels, channels, kernel_size=3, padding=1),\n",
        "            nn.ReLU(),\n",
        "            nn.Conv2d(channels, channels, kernel_size=3, padding=1)\n",
        "        )\n",
        "\n",
        "    def forward(self, x):\n",
        "        return self.net(x)\n",
        "\n",
        "# Step 2: Define DDPM Model\n",
        "class DDPMBlock(nn.Module):\n",
        "    def __init__(self, channels, noise_schedule):\n",
        "        super(DDPMBlock, self).__init__()\n",
        "        self.net = nn.Sequential(\n",
        "            nn.Conv2d(channels, channels, kernel_size=3, padding=1),\n",
        "            nn.ReLU(),\n",
        "            nn.Conv2d(channels, channels, kernel_size=3, padding=1)\n",
        "        )\n",
        "        self.sigma_schedule = nn.Parameter(torch.tensor(noise_schedule), requires_grad=False)\n",
        "\n",
        "    def forward(self, x, t):\n",
        "        sigma_t = self.sigma_schedule[t]\n",
        "        noise = torch.randn_like(x) * sigma_t\n",
        "        return x + noise - self.net(x)\n",
        "\n",
        "class DDPM(nn.Module):\n",
        "    def __init__(self, num_blocks, channels, noise_schedule):\n",
        "        super(DDPM, self).__init__()\n",
        "        self.blocks = nn.ModuleList([DDPMBlock(channels, noise_schedule) for _ in range(num_blocks)])\n",
        "\n",
        "    def forward(self, x, t):\n",
        "        for block in self.blocks:\n",
        "            x = block(x, t)\n",
        "        return x\n",
        "\n",
        "# Step 3: Preprocess CIFAR-10 Dataset\n",
        "transform = transforms.Compose([\n",
        "    transforms.ToTensor(),\n",
        "    transforms.Normalize((0.5, 0.5, 0.5), (0.5, 0.5, 0.5)) # Normalize to [-1, 1]\n",
        "])\n",
        "\n",
        "trainset = torchvision.datasets.CIFAR10(root='./data', train=True, download=True, transform=transform)\n",
        "trainloader = DataLoader(trainset, batch_size=64, shuffle=True)\n",
        "\n",
        "# Step 4: Initialize DIP Model, Loss, and Optimizer\n",
        "device = torch.device(\"cuda\" if torch.cuda.is_available() else \"cpu\")\n",
        "\n",
        "channels = 3  # For RGB images\n",
        "dip_model = DIP(channels).to(device)\n",
        "dip_criterion = nn.MSELoss()\n",
        "dip_optimizer = optim.Adam(dip_model.parameters(), lr=0.001)\n",
        "\n",
        "# Step 5: Pre-training DIP Model\n",
        "num_dip_epochs = 10\n",
        "for epoch in range(num_dip_epochs):\n",
        "    dip_model.train()\n",
        "    running_loss = 0.0\n",
        "    for inputs, _ in tqdm(trainloader):\n",
        "        inputs = inputs.to(device)\n",
        "        dip_optimizer.zero_grad()\n",
        "        outputs = dip_model(inputs)\n",
        "        loss = dip_criterion(outputs, inputs)\n",
        "        loss.backward()\n",
        "        dip_optimizer.step()\n",
        "        running_loss += loss.item()\n",
        "    print(f\"DIP Epoch [{epoch+1}/{num_dip_epochs}], Loss: {running_loss/len(trainloader)}\")\n",
        "\n",
        "# Step 6: Fine-tuning DIP Model using DDPM\n",
        "num_blocks = 10\n",
        "### Exp2 here\n",
        "noise_schedule = [0.1 * (0.95 ** i) for i in range(1000)]\n",
        "ddpm_model = DDPM(num_blocks, channels, noise_schedule).to(device)\n",
        "ddpm_criterion = nn.MSELoss()\n",
        "ddpm_optimizer = optim.Adam(ddpm_model.parameters(), lr=0.001)\n",
        "\n",
        "# Freeze DIP model parameters\n",
        "for param in dip_model.parameters():\n",
        "    param.requires_grad = False\n",
        "\n",
        "# Step 7: Fine-tuning Loop\n",
        "num_ddpm_epochs = 10\n",
        "for epoch in range(num_ddpm_epochs):\n",
        "    ddpm_model.train()\n",
        "    running_loss = 0.0\n",
        "    for inputs, _ in tqdm(trainloader):\n",
        "        inputs = inputs.to(device)\n",
        "        ddpm_optimizer.zero_grad()\n",
        "\n",
        "        # Forward pass through DIP model\n",
        "        with torch.no_grad():\n",
        "            dip_outputs = dip_model(inputs)\n",
        "\n",
        "        # Forward pass through DDPM model\n",
        "        ddpm_outputs = ddpm_model(dip_outputs, t=torch.randint(0, len(noise_schedule), (1,)).item())\n",
        "\n",
        "        # Compute loss\n",
        "        loss = ddpm_criterion(ddpm_outputs, inputs)\n",
        "\n",
        "        # Backward pass and optimization\n",
        "        loss.backward()\n",
        "        ddpm_optimizer.step()\n",
        "\n",
        "        running_loss += loss.item()\n",
        "    print(f\"DDPM Epoch [{epoch+1}/{num_ddpm_epochs}], Loss: {running_loss/len(trainloader)}\")\n",
        "\n",
        "# Step 8: Evaluation and Sample Generation\n",
        "def denoise_image(model, image, num_steps=10):\n",
        "    model.eval()\n",
        "    with torch.no_grad():\n",
        "        x = image.unsqueeze(0).to(device)\n",
        "        for t in range(num_steps):\n",
        "            x = model(x, t=torch.randint(0, len(noise_schedule), (1,)).item())\n",
        "    return x.cpu().squeeze(0)\n",
        "\n",
        "# Choose a random image from the dataset for evaluation\n",
        "test_image, _ = trainset[0]\n",
        "denoised_image = denoise_image(ddpm_model, test_image)\n",
        "\n",
        "# Plot original and denoised images\n",
        "plt.figure(figsize=(8, 4))\n",
        "plt.subplot(1, 2, 1)\n",
        "plt.title('Original Image')\n",
        "plt.imshow(test_image.permute(1, 2, 0))\n",
        "plt.subplot(1, 2, 2)\n",
        "plt.title('Denoised Image')\n",
        "plt.imshow(denoised_image.permute(1, 2, 0))\n",
        "plt.show()\n",
        "\n",
        "# Calculate PSNR and SSIM\n",
        "psnr_value = psnr(torch.clone(test_image).cpu().permute(1, 2, 0).numpy(),\n",
        "                  denoised_image.cpu().permute(1, 2, 0).numpy())\n",
        "ssim_value = ssim(torch.clone(test_image).cpu().permute(1, 2, 0).numpy(),\n",
        "                  denoised_image.cpu().permute(1, 2, 0).numpy(), multichannel=True)\n",
        "\n",
        "print(f\"PSNR: {psnr_value}\")\n",
        "print(f\"SSIM: {ssim_value}\")"
      ]
    },
    {
      "cell_type": "markdown",
      "metadata": {
        "id": "0HMCCmlJ-lDJ"
      },
      "source": [
        "(4)Exp2-2: Change noise_schedule to Cosine Schedule\n",
        ": noise_schedule = [0.5 * (1 + np.cos((i / 1000) * np.pi)) for i in range(1000)]"
      ]
    },
    {
      "cell_type": "code",
      "execution_count": 9,
      "metadata": {
        "colab": {
          "base_uri": "https://localhost:8080/",
          "height": 1000
        },
        "id": "ivwkLo6f-lds",
        "outputId": "75c1d31d-ae9d-4cab-e4a0-55f705abc3de"
      },
      "outputs": [
        {
          "name": "stdout",
          "output_type": "stream",
          "text": [
            "Files already downloaded and verified\n"
          ]
        },
        {
          "name": "stderr",
          "output_type": "stream",
          "text": [
            "100%|██████████| 782/782 [00:15<00:00, 50.92it/s]\n"
          ]
        },
        {
          "name": "stdout",
          "output_type": "stream",
          "text": [
            "DIP Epoch [1/10], Loss: 0.033878835768479366\n"
          ]
        },
        {
          "name": "stderr",
          "output_type": "stream",
          "text": [
            "100%|██████████| 782/782 [00:15<00:00, 51.27it/s]\n"
          ]
        },
        {
          "name": "stdout",
          "output_type": "stream",
          "text": [
            "DIP Epoch [2/10], Loss: 0.006106745137575814\n"
          ]
        },
        {
          "name": "stderr",
          "output_type": "stream",
          "text": [
            "100%|██████████| 782/782 [00:15<00:00, 50.85it/s]\n"
          ]
        },
        {
          "name": "stdout",
          "output_type": "stream",
          "text": [
            "DIP Epoch [3/10], Loss: 0.0018038513272723225\n"
          ]
        },
        {
          "name": "stderr",
          "output_type": "stream",
          "text": [
            "100%|██████████| 782/782 [00:15<00:00, 51.35it/s]\n"
          ]
        },
        {
          "name": "stdout",
          "output_type": "stream",
          "text": [
            "DIP Epoch [4/10], Loss: 0.000668678915968029\n"
          ]
        },
        {
          "name": "stderr",
          "output_type": "stream",
          "text": [
            "100%|██████████| 782/782 [00:15<00:00, 50.51it/s]\n"
          ]
        },
        {
          "name": "stdout",
          "output_type": "stream",
          "text": [
            "DIP Epoch [5/10], Loss: 0.00039259065873027704\n"
          ]
        },
        {
          "name": "stderr",
          "output_type": "stream",
          "text": [
            "100%|██████████| 782/782 [00:15<00:00, 50.52it/s]\n"
          ]
        },
        {
          "name": "stdout",
          "output_type": "stream",
          "text": [
            "DIP Epoch [6/10], Loss: 0.00026731735839985747\n"
          ]
        },
        {
          "name": "stderr",
          "output_type": "stream",
          "text": [
            "100%|██████████| 782/782 [00:15<00:00, 50.86it/s]\n"
          ]
        },
        {
          "name": "stdout",
          "output_type": "stream",
          "text": [
            "DIP Epoch [7/10], Loss: 0.00018795711184328403\n"
          ]
        },
        {
          "name": "stderr",
          "output_type": "stream",
          "text": [
            "100%|██████████| 782/782 [00:15<00:00, 50.86it/s]\n"
          ]
        },
        {
          "name": "stdout",
          "output_type": "stream",
          "text": [
            "DIP Epoch [8/10], Loss: 0.00013270044892914998\n"
          ]
        },
        {
          "name": "stderr",
          "output_type": "stream",
          "text": [
            "100%|██████████| 782/782 [00:15<00:00, 51.28it/s]\n"
          ]
        },
        {
          "name": "stdout",
          "output_type": "stream",
          "text": [
            "DIP Epoch [9/10], Loss: 9.630218536425244e-05\n"
          ]
        },
        {
          "name": "stderr",
          "output_type": "stream",
          "text": [
            "100%|██████████| 782/782 [00:15<00:00, 51.02it/s]\n"
          ]
        },
        {
          "name": "stdout",
          "output_type": "stream",
          "text": [
            "DIP Epoch [10/10], Loss: 7.466555074447721e-05\n"
          ]
        },
        {
          "name": "stderr",
          "output_type": "stream",
          "text": [
            "100%|██████████| 782/782 [00:52<00:00, 14.80it/s]\n"
          ]
        },
        {
          "name": "stdout",
          "output_type": "stream",
          "text": [
            "DDPM Epoch [1/10], Loss: 1.0906921080063523\n"
          ]
        },
        {
          "name": "stderr",
          "output_type": "stream",
          "text": [
            "100%|██████████| 782/782 [00:53<00:00, 14.63it/s]\n"
          ]
        },
        {
          "name": "stdout",
          "output_type": "stream",
          "text": [
            "DDPM Epoch [2/10], Loss: 0.5466391266992939\n"
          ]
        },
        {
          "name": "stderr",
          "output_type": "stream",
          "text": [
            "100%|██████████| 782/782 [00:51<00:00, 15.05it/s]\n"
          ]
        },
        {
          "name": "stdout",
          "output_type": "stream",
          "text": [
            "DDPM Epoch [3/10], Loss: 0.47254680933387916\n"
          ]
        },
        {
          "name": "stderr",
          "output_type": "stream",
          "text": [
            "100%|██████████| 782/782 [00:52<00:00, 14.79it/s]\n"
          ]
        },
        {
          "name": "stdout",
          "output_type": "stream",
          "text": [
            "DDPM Epoch [4/10], Loss: 0.46062521571222015\n"
          ]
        },
        {
          "name": "stderr",
          "output_type": "stream",
          "text": [
            "100%|██████████| 782/782 [00:52<00:00, 14.84it/s]\n"
          ]
        },
        {
          "name": "stdout",
          "output_type": "stream",
          "text": [
            "DDPM Epoch [5/10], Loss: 0.44956548684669656\n"
          ]
        },
        {
          "name": "stderr",
          "output_type": "stream",
          "text": [
            "100%|██████████| 782/782 [00:52<00:00, 14.92it/s]\n"
          ]
        },
        {
          "name": "stdout",
          "output_type": "stream",
          "text": [
            "DDPM Epoch [6/10], Loss: 0.446667695565678\n"
          ]
        },
        {
          "name": "stderr",
          "output_type": "stream",
          "text": [
            "100%|██████████| 782/782 [00:53<00:00, 14.72it/s]\n"
          ]
        },
        {
          "name": "stdout",
          "output_type": "stream",
          "text": [
            "DDPM Epoch [7/10], Loss: 0.4128772611134326\n"
          ]
        },
        {
          "name": "stderr",
          "output_type": "stream",
          "text": [
            "100%|██████████| 782/782 [00:52<00:00, 14.80it/s]\n"
          ]
        },
        {
          "name": "stdout",
          "output_type": "stream",
          "text": [
            "DDPM Epoch [8/10], Loss: 0.4322826001016647\n"
          ]
        },
        {
          "name": "stderr",
          "output_type": "stream",
          "text": [
            "100%|██████████| 782/782 [00:52<00:00, 14.87it/s]\n"
          ]
        },
        {
          "name": "stdout",
          "output_type": "stream",
          "text": [
            "DDPM Epoch [9/10], Loss: 0.42565158510799794\n"
          ]
        },
        {
          "name": "stderr",
          "output_type": "stream",
          "text": [
            "100%|██████████| 782/782 [00:52<00:00, 14.78it/s]\n",
            "WARNING:matplotlib.image:Clipping input data to the valid range for imshow with RGB data ([0..1] for floats or [0..255] for integers).\n",
            "WARNING:matplotlib.image:Clipping input data to the valid range for imshow with RGB data ([0..1] for floats or [0..255] for integers).\n"
          ]
        },
        {
          "name": "stdout",
          "output_type": "stream",
          "text": [
            "DDPM Epoch [10/10], Loss: 0.39131793991336244\n"
          ]
        },
        {
          "data": {
            "image/png": "[encoded data removed]",
            "text/plain": [
              "<Figure size 800x400 with 2 Axes>"
            ]
          },
          "metadata": {},
          "output_type": "display_data"
        },
        {
          "name": "stdout",
          "output_type": "stream",
          "text": [
            "PSNR: 8.587089058015046\n",
            "SSIM: 0.09730891138315201\n"
          ]
        },
        {
          "name": "stderr",
          "output_type": "stream",
          "text": [
            "<ipython-input-9-4aa8036cc69c>:145: FutureWarning: `multichannel` is a deprecated argument name for `structural_similarity`. It will be removed in version 1.0. Please use `channel_axis` instead.\n",
            "  ssim_value = ssim(torch.clone(test_image).cpu().permute(1, 2, 0).numpy(),\n"
          ]
        }
      ],
      "source": [
        "import torch\n",
        "import torch.nn as nn\n",
        "import torch.optim as optim\n",
        "import torchvision\n",
        "import torchvision.transforms as transforms\n",
        "from torch.utils.data import DataLoader\n",
        "from tqdm import tqdm\n",
        "import numpy as np\n",
        "\n",
        "# Step 1: Define DIP Model\n",
        "class DIP(nn.Module):\n",
        "    def __init__(self, channels):\n",
        "        super(DIP, self).__init__()\n",
        "        self.net = nn.Sequential(\n",
        "            nn.Conv2d(channels, channels, kernel_size=3, padding=1),\n",
        "            nn.ReLU(),\n",
        "            nn.Conv2d(channels, channels, kernel_size=3, padding=1)\n",
        "        )\n",
        "\n",
        "    def forward(self, x):\n",
        "        return self.net(x)\n",
        "\n",
        "# Step 2: Define DDPM Model\n",
        "class DDPMBlock(nn.Module):\n",
        "    def __init__(self, channels, noise_schedule):\n",
        "        super(DDPMBlock, self).__init__()\n",
        "        self.net = nn.Sequential(\n",
        "            nn.Conv2d(channels, channels, kernel_size=3, padding=1),\n",
        "            nn.ReLU(),\n",
        "            nn.Conv2d(channels, channels, kernel_size=3, padding=1)\n",
        "        )\n",
        "        self.sigma_schedule = nn.Parameter(torch.tensor(noise_schedule), requires_grad=False)\n",
        "\n",
        "    def forward(self, x, t):\n",
        "        sigma_t = self.sigma_schedule[t]\n",
        "        noise = torch.randn_like(x) * sigma_t\n",
        "        return x + noise - self.net(x)\n",
        "\n",
        "class DDPM(nn.Module):\n",
        "    def __init__(self, num_blocks, channels, noise_schedule):\n",
        "        super(DDPM, self).__init__()\n",
        "        self.blocks = nn.ModuleList([DDPMBlock(channels, noise_schedule) for _ in range(num_blocks)])\n",
        "\n",
        "    def forward(self, x, t):\n",
        "        for block in self.blocks:\n",
        "            x = block(x, t)\n",
        "        return x\n",
        "\n",
        "# Step 3: Preprocess CIFAR-10 Dataset\n",
        "transform = transforms.Compose([\n",
        "    transforms.ToTensor(),\n",
        "    transforms.Normalize((0.5, 0.5, 0.5), (0.5, 0.5, 0.5)) # Normalize to [-1, 1]\n",
        "])\n",
        "\n",
        "trainset = torchvision.datasets.CIFAR10(root='./data', train=True, download=True, transform=transform)\n",
        "trainloader = DataLoader(trainset, batch_size=64, shuffle=True)\n",
        "\n",
        "# Step 4: Initialize DIP Model, Loss, and Optimizer\n",
        "device = torch.device(\"cuda\" if torch.cuda.is_available() else \"cpu\")\n",
        "\n",
        "channels = 3  # For RGB images\n",
        "dip_model = DIP(channels).to(device)\n",
        "dip_criterion = nn.MSELoss()\n",
        "dip_optimizer = optim.Adam(dip_model.parameters(), lr=0.001)\n",
        "\n",
        "# Step 5: Pre-training DIP Model\n",
        "num_dip_epochs = 10\n",
        "for epoch in range(num_dip_epochs):\n",
        "    dip_model.train()\n",
        "    running_loss = 0.0\n",
        "    for inputs, _ in tqdm(trainloader):\n",
        "        inputs = inputs.to(device)\n",
        "        dip_optimizer.zero_grad()\n",
        "        outputs = dip_model(inputs)\n",
        "        loss = dip_criterion(outputs, inputs)\n",
        "        loss.backward()\n",
        "        dip_optimizer.step()\n",
        "        running_loss += loss.item()\n",
        "    print(f\"DIP Epoch [{epoch+1}/{num_dip_epochs}], Loss: {running_loss/len(trainloader)}\")\n",
        "\n",
        "# Step 6: Fine-tuning DIP Model using DDPM\n",
        "num_blocks = 10\n",
        "### Exp2 here\n",
        "noise_schedule = [0.5 * (1 + np.cos((i / 1000) * np.pi)) for i in range(1000)]\n",
        "ddpm_model = DDPM(num_blocks, channels, noise_schedule).to(device)\n",
        "ddpm_criterion = nn.MSELoss()\n",
        "ddpm_optimizer = optim.Adam(ddpm_model.parameters(), lr=0.001)\n",
        "\n",
        "# Freeze DIP model parameters\n",
        "for param in dip_model.parameters():\n",
        "    param.requires_grad = False\n",
        "\n",
        "# Step 7: Fine-tuning Loop\n",
        "num_ddpm_epochs = 10\n",
        "for epoch in range(num_ddpm_epochs):\n",
        "    ddpm_model.train()\n",
        "    running_loss = 0.0\n",
        "    for inputs, _ in tqdm(trainloader):\n",
        "        inputs = inputs.to(device)\n",
        "        ddpm_optimizer.zero_grad()\n",
        "\n",
        "        # Forward pass through DIP model\n",
        "        with torch.no_grad():\n",
        "            dip_outputs = dip_model(inputs)\n",
        "\n",
        "        # Forward pass through DDPM model\n",
        "        ddpm_outputs = ddpm_model(dip_outputs, t=torch.randint(0, len(noise_schedule), (1,)).item())\n",
        "\n",
        "        # Compute loss\n",
        "        loss = ddpm_criterion(ddpm_outputs, inputs)\n",
        "\n",
        "        # Backward pass and optimization\n",
        "        loss.backward()\n",
        "        ddpm_optimizer.step()\n",
        "\n",
        "        running_loss += loss.item()\n",
        "    print(f\"DDPM Epoch [{epoch+1}/{num_ddpm_epochs}], Loss: {running_loss/len(trainloader)}\")\n",
        "\n",
        "# Step 8: Evaluation and Sample Generation\n",
        "def denoise_image(model, image, num_steps=10):\n",
        "    model.eval()\n",
        "    with torch.no_grad():\n",
        "        x = image.unsqueeze(0).to(device)\n",
        "        for t in range(num_steps):\n",
        "            x = model(x, t=torch.randint(0, len(noise_schedule), (1,)).item())\n",
        "    return x.cpu().squeeze(0)\n",
        "\n",
        "# Choose a random image from the dataset for evaluation\n",
        "test_image, _ = trainset[0]\n",
        "denoised_image = denoise_image(ddpm_model, test_image)\n",
        "\n",
        "# Plot original and denoised images\n",
        "plt.figure(figsize=(8, 4))\n",
        "plt.subplot(1, 2, 1)\n",
        "plt.title('Original Image')\n",
        "plt.imshow(test_image.permute(1, 2, 0))\n",
        "plt.subplot(1, 2, 2)\n",
        "plt.title('Denoised Image')\n",
        "plt.imshow(denoised_image.permute(1, 2, 0))\n",
        "plt.show()\n",
        "\n",
        "# Calculate PSNR and SSIM\n",
        "psnr_value = psnr(torch.clone(test_image).cpu().permute(1, 2, 0).numpy(),\n",
        "                  denoised_image.cpu().permute(1, 2, 0).numpy())\n",
        "ssim_value = ssim(torch.clone(test_image).cpu().permute(1, 2, 0).numpy(),\n",
        "                  denoised_image.cpu().permute(1, 2, 0).numpy(), multichannel=True)\n",
        "\n",
        "print(f\"PSNR: {psnr_value}\")\n",
        "print(f\"SSIM: {ssim_value}\")"
      ]
    },
    {
      "cell_type": "markdown",
      "metadata": {
        "id": "OVm-oE1nCWJD"
      },
      "source": [
        "(5)Exp2-3: Change noise_schedule to Polynomial Schedule:  noise_schedule = [0.5 * (1 + np.cos((i / 1000) * np.pi)) for i in range(1000)]\n",
        "\n"
      ]
    },
    {
      "cell_type": "code",
      "execution_count": 10,
      "metadata": {
        "colab": {
          "base_uri": "https://localhost:8080/",
          "height": 1000
        },
        "id": "8UsAYsmbCIQo",
        "outputId": "294d9aa1-92be-4c5f-9e3a-6fb53bcde8e2"
      },
      "outputs": [
        {
          "name": "stdout",
          "output_type": "stream",
          "text": [
            "Files already downloaded and verified\n"
          ]
        },
        {
          "name": "stderr",
          "output_type": "stream",
          "text": [
            "100%|██████████| 782/782 [00:15<00:00, 51.23it/s]\n"
          ]
        },
        {
          "name": "stdout",
          "output_type": "stream",
          "text": [
            "DIP Epoch [1/10], Loss: 0.05411909211931936\n"
          ]
        },
        {
          "name": "stderr",
          "output_type": "stream",
          "text": [
            "100%|██████████| 782/782 [00:15<00:00, 50.96it/s]\n"
          ]
        },
        {
          "name": "stdout",
          "output_type": "stream",
          "text": [
            "DIP Epoch [2/10], Loss: 0.009377913261928102\n"
          ]
        },
        {
          "name": "stderr",
          "output_type": "stream",
          "text": [
            "100%|██████████| 782/782 [00:15<00:00, 50.70it/s]\n"
          ]
        },
        {
          "name": "stdout",
          "output_type": "stream",
          "text": [
            "DIP Epoch [3/10], Loss: 0.0031017846020850856\n"
          ]
        },
        {
          "name": "stderr",
          "output_type": "stream",
          "text": [
            "100%|██████████| 782/782 [00:15<00:00, 50.83it/s]\n"
          ]
        },
        {
          "name": "stdout",
          "output_type": "stream",
          "text": [
            "DIP Epoch [4/10], Loss: 0.0010263458585224885\n"
          ]
        },
        {
          "name": "stderr",
          "output_type": "stream",
          "text": [
            "100%|██████████| 782/782 [00:15<00:00, 50.77it/s]\n"
          ]
        },
        {
          "name": "stdout",
          "output_type": "stream",
          "text": [
            "DIP Epoch [5/10], Loss: 0.0006071272847802996\n"
          ]
        },
        {
          "name": "stderr",
          "output_type": "stream",
          "text": [
            "100%|██████████| 782/782 [00:15<00:00, 50.99it/s]\n"
          ]
        },
        {
          "name": "stdout",
          "output_type": "stream",
          "text": [
            "DIP Epoch [6/10], Loss: 0.0003978420229120444\n"
          ]
        },
        {
          "name": "stderr",
          "output_type": "stream",
          "text": [
            "100%|██████████| 782/782 [00:15<00:00, 50.97it/s]\n"
          ]
        },
        {
          "name": "stdout",
          "output_type": "stream",
          "text": [
            "DIP Epoch [7/10], Loss: 0.0002500276323585042\n"
          ]
        },
        {
          "name": "stderr",
          "output_type": "stream",
          "text": [
            "100%|██████████| 782/782 [00:15<00:00, 51.51it/s]\n"
          ]
        },
        {
          "name": "stdout",
          "output_type": "stream",
          "text": [
            "DIP Epoch [8/10], Loss: 0.0001502132607901426\n"
          ]
        },
        {
          "name": "stderr",
          "output_type": "stream",
          "text": [
            "100%|██████████| 782/782 [00:15<00:00, 51.59it/s]\n"
          ]
        },
        {
          "name": "stdout",
          "output_type": "stream",
          "text": [
            "DIP Epoch [9/10], Loss: 9.752761409699838e-05\n"
          ]
        },
        {
          "name": "stderr",
          "output_type": "stream",
          "text": [
            "100%|██████████| 782/782 [00:15<00:00, 51.53it/s]\n"
          ]
        },
        {
          "name": "stdout",
          "output_type": "stream",
          "text": [
            "DIP Epoch [10/10], Loss: 6.926773856744578e-05\n"
          ]
        },
        {
          "name": "stderr",
          "output_type": "stream",
          "text": [
            "100%|██████████| 782/782 [00:53<00:00, 14.74it/s]\n"
          ]
        },
        {
          "name": "stdout",
          "output_type": "stream",
          "text": [
            "DDPM Epoch [1/10], Loss: 0.030461368903391482\n"
          ]
        },
        {
          "name": "stderr",
          "output_type": "stream",
          "text": [
            "100%|██████████| 782/782 [00:53<00:00, 14.74it/s]\n"
          ]
        },
        {
          "name": "stdout",
          "output_type": "stream",
          "text": [
            "DDPM Epoch [2/10], Loss: 0.014264933969331262\n"
          ]
        },
        {
          "name": "stderr",
          "output_type": "stream",
          "text": [
            "100%|██████████| 782/782 [00:53<00:00, 14.74it/s]\n"
          ]
        },
        {
          "name": "stdout",
          "output_type": "stream",
          "text": [
            "DDPM Epoch [3/10], Loss: 0.012016163210567954\n"
          ]
        },
        {
          "name": "stderr",
          "output_type": "stream",
          "text": [
            "100%|██████████| 782/782 [00:53<00:00, 14.69it/s]\n"
          ]
        },
        {
          "name": "stdout",
          "output_type": "stream",
          "text": [
            "DDPM Epoch [4/10], Loss: 0.010775345072889811\n"
          ]
        },
        {
          "name": "stderr",
          "output_type": "stream",
          "text": [
            "100%|██████████| 782/782 [00:52<00:00, 14.95it/s]\n"
          ]
        },
        {
          "name": "stdout",
          "output_type": "stream",
          "text": [
            "DDPM Epoch [5/10], Loss: 0.00966931338963287\n"
          ]
        },
        {
          "name": "stderr",
          "output_type": "stream",
          "text": [
            "100%|██████████| 782/782 [00:52<00:00, 14.85it/s]\n"
          ]
        },
        {
          "name": "stdout",
          "output_type": "stream",
          "text": [
            "DDPM Epoch [6/10], Loss: 0.00961440330599923\n"
          ]
        },
        {
          "name": "stderr",
          "output_type": "stream",
          "text": [
            "100%|██████████| 782/782 [00:52<00:00, 14.91it/s]\n"
          ]
        },
        {
          "name": "stdout",
          "output_type": "stream",
          "text": [
            "DDPM Epoch [7/10], Loss: 0.009013918823624492\n"
          ]
        },
        {
          "name": "stderr",
          "output_type": "stream",
          "text": [
            "100%|██████████| 782/782 [00:52<00:00, 15.03it/s]\n"
          ]
        },
        {
          "name": "stdout",
          "output_type": "stream",
          "text": [
            "DDPM Epoch [8/10], Loss: 0.008543643986691942\n"
          ]
        },
        {
          "name": "stderr",
          "output_type": "stream",
          "text": [
            "100%|██████████| 782/782 [00:52<00:00, 14.85it/s]\n"
          ]
        },
        {
          "name": "stdout",
          "output_type": "stream",
          "text": [
            "DDPM Epoch [9/10], Loss: 0.008059197822865575\n"
          ]
        },
        {
          "name": "stderr",
          "output_type": "stream",
          "text": [
            "100%|██████████| 782/782 [00:53<00:00, 14.64it/s]\n",
            "WARNING:matplotlib.image:Clipping input data to the valid range for imshow with RGB data ([0..1] for floats or [0..255] for integers).\n",
            "WARNING:matplotlib.image:Clipping input data to the valid range for imshow with RGB data ([0..1] for floats or [0..255] for integers).\n"
          ]
        },
        {
          "name": "stdout",
          "output_type": "stream",
          "text": [
            "DDPM Epoch [10/10], Loss: 0.008128600468968643\n"
          ]
        },
        {
          "data": {
            "image/png": "[encoded data removed]",
            "text/plain": [
              "<Figure size 800x400 with 2 Axes>"
            ]
          },
          "metadata": {},
          "output_type": "display_data"
        },
        {
          "name": "stdout",
          "output_type": "stream",
          "text": [
            "PSNR: 18.575871208247335\n",
            "SSIM: 0.531550407409668\n"
          ]
        },
        {
          "name": "stderr",
          "output_type": "stream",
          "text": [
            "<ipython-input-10-6701764373cc>:145: FutureWarning: `multichannel` is a deprecated argument name for `structural_similarity`. It will be removed in version 1.0. Please use `channel_axis` instead.\n",
            "  ssim_value = ssim(torch.clone(test_image).cpu().permute(1, 2, 0).numpy(),\n"
          ]
        }
      ],
      "source": [
        "import torch\n",
        "import torch.nn as nn\n",
        "import torch.optim as optim\n",
        "import torchvision\n",
        "import torchvision.transforms as transforms\n",
        "from torch.utils.data import DataLoader\n",
        "from tqdm import tqdm\n",
        "import numpy as np\n",
        "\n",
        "# Step 1: Define DIP Model\n",
        "class DIP(nn.Module):\n",
        "    def __init__(self, channels):\n",
        "        super(DIP, self).__init__()\n",
        "        self.net = nn.Sequential(\n",
        "            nn.Conv2d(channels, channels, kernel_size=3, padding=1),\n",
        "            nn.ReLU(),\n",
        "            nn.Conv2d(channels, channels, kernel_size=3, padding=1)\n",
        "        )\n",
        "\n",
        "    def forward(self, x):\n",
        "        return self.net(x)\n",
        "\n",
        "# Step 2: Define DDPM Model\n",
        "class DDPMBlock(nn.Module):\n",
        "    def __init__(self, channels, noise_schedule):\n",
        "        super(DDPMBlock, self).__init__()\n",
        "        self.net = nn.Sequential(\n",
        "            nn.Conv2d(channels, channels, kernel_size=3, padding=1),\n",
        "            nn.ReLU(),\n",
        "            nn.Conv2d(channels, channels, kernel_size=3, padding=1)\n",
        "        )\n",
        "        self.sigma_schedule = nn.Parameter(torch.tensor(noise_schedule), requires_grad=False)\n",
        "\n",
        "    def forward(self, x, t):\n",
        "        sigma_t = self.sigma_schedule[t]\n",
        "        noise = torch.randn_like(x) * sigma_t\n",
        "        return x + noise - self.net(x)\n",
        "\n",
        "class DDPM(nn.Module):\n",
        "    def __init__(self, num_blocks, channels, noise_schedule):\n",
        "        super(DDPM, self).__init__()\n",
        "        self.blocks = nn.ModuleList([DDPMBlock(channels, noise_schedule) for _ in range(num_blocks)])\n",
        "\n",
        "    def forward(self, x, t):\n",
        "        for block in self.blocks:\n",
        "            x = block(x, t)\n",
        "        return x\n",
        "\n",
        "# Step 3: Preprocess CIFAR-10 Dataset\n",
        "transform = transforms.Compose([\n",
        "    transforms.ToTensor(),\n",
        "    transforms.Normalize((0.5, 0.5, 0.5), (0.5, 0.5, 0.5)) # Normalize to [-1, 1]\n",
        "])\n",
        "\n",
        "trainset = torchvision.datasets.CIFAR10(root='./data', train=True, download=True, transform=transform)\n",
        "trainloader = DataLoader(trainset, batch_size=64, shuffle=True)\n",
        "\n",
        "# Step 4: Initialize DIP Model, Loss, and Optimizer\n",
        "device = torch.device(\"cuda\" if torch.cuda.is_available() else \"cpu\")\n",
        "\n",
        "channels = 3  # For RGB images\n",
        "dip_model = DIP(channels).to(device)\n",
        "dip_criterion = nn.MSELoss()\n",
        "dip_optimizer = optim.Adam(dip_model.parameters(), lr=0.001)\n",
        "\n",
        "# Step 5: Pre-training DIP Model\n",
        "num_dip_epochs = 10\n",
        "for epoch in range(num_dip_epochs):\n",
        "    dip_model.train()\n",
        "    running_loss = 0.0\n",
        "    for inputs, _ in tqdm(trainloader):\n",
        "        inputs = inputs.to(device)\n",
        "        dip_optimizer.zero_grad()\n",
        "        outputs = dip_model(inputs)\n",
        "        loss = dip_criterion(outputs, inputs)\n",
        "        loss.backward()\n",
        "        dip_optimizer.step()\n",
        "        running_loss += loss.item()\n",
        "    print(f\"DIP Epoch [{epoch+1}/{num_dip_epochs}], Loss: {running_loss/len(trainloader)}\")\n",
        "\n",
        "# Step 6: Fine-tuning DIP Model using DDPM\n",
        "num_blocks = 10\n",
        "### Exp2 here\n",
        "noise_schedule = [0.1 * (1 - (i / 1000) ** 2) for i in range(1000)]\n",
        "ddpm_model = DDPM(num_blocks, channels, noise_schedule).to(device)\n",
        "ddpm_criterion = nn.MSELoss()\n",
        "ddpm_optimizer = optim.Adam(ddpm_model.parameters(), lr=0.001)\n",
        "\n",
        "# Freeze DIP model parameters\n",
        "for param in dip_model.parameters():\n",
        "    param.requires_grad = False\n",
        "\n",
        "# Step 7: Fine-tuning Loop\n",
        "num_ddpm_epochs = 10\n",
        "for epoch in range(num_ddpm_epochs):\n",
        "    ddpm_model.train()\n",
        "    running_loss = 0.0\n",
        "    for inputs, _ in tqdm(trainloader):\n",
        "        inputs = inputs.to(device)\n",
        "        ddpm_optimizer.zero_grad()\n",
        "\n",
        "        # Forward pass through DIP model\n",
        "        with torch.no_grad():\n",
        "            dip_outputs = dip_model(inputs)\n",
        "\n",
        "        # Forward pass through DDPM model\n",
        "        ddpm_outputs = ddpm_model(dip_outputs, t=torch.randint(0, len(noise_schedule), (1,)).item())\n",
        "\n",
        "        # Compute loss\n",
        "        loss = ddpm_criterion(ddpm_outputs, inputs)\n",
        "\n",
        "        # Backward pass and optimization\n",
        "        loss.backward()\n",
        "        ddpm_optimizer.step()\n",
        "\n",
        "        running_loss += loss.item()\n",
        "    print(f\"DDPM Epoch [{epoch+1}/{num_ddpm_epochs}], Loss: {running_loss/len(trainloader)}\")\n",
        "\n",
        "# Step 8: Evaluation and Sample Generation\n",
        "def denoise_image(model, image, num_steps=10):\n",
        "    model.eval()\n",
        "    with torch.no_grad():\n",
        "        x = image.unsqueeze(0).to(device)\n",
        "        for t in range(num_steps):\n",
        "            x = model(x, t=torch.randint(0, len(noise_schedule), (1,)).item())\n",
        "    return x.cpu().squeeze(0)\n",
        "\n",
        "# Choose a random image from the dataset for evaluation\n",
        "test_image, _ = trainset[0]\n",
        "denoised_image = denoise_image(ddpm_model, test_image)\n",
        "\n",
        "# Plot original and denoised images\n",
        "plt.figure(figsize=(8, 4))\n",
        "plt.subplot(1, 2, 1)\n",
        "plt.title('Original Image')\n",
        "plt.imshow(test_image.permute(1, 2, 0))\n",
        "plt.subplot(1, 2, 2)\n",
        "plt.title('Denoised Image')\n",
        "plt.imshow(denoised_image.permute(1, 2, 0))\n",
        "plt.show()\n",
        "\n",
        "# Calculate PSNR and SSIM\n",
        "psnr_value = psnr(torch.clone(test_image).cpu().permute(1, 2, 0).numpy(),\n",
        "                  denoised_image.cpu().permute(1, 2, 0).numpy())\n",
        "ssim_value = ssim(torch.clone(test_image).cpu().permute(1, 2, 0).numpy(),\n",
        "                  denoised_image.cpu().permute(1, 2, 0).numpy(), multichannel=True)\n",
        "\n",
        "print(f\"PSNR: {psnr_value}\")\n",
        "print(f\"SSIM: {ssim_value}\")"
      ]
    },
    {
      "cell_type": "markdown",
      "metadata": {
        "id": "SAAgghaHG7H7"
      },
      "source": [
        "(6)Exp3: Adjust batch size to 128"
      ]
    },
    {
      "cell_type": "code",
      "execution_count": 11,
      "metadata": {
        "colab": {
          "base_uri": "https://localhost:8080/",
          "height": 1000
        },
        "id": "zQaSR82HG7gY",
        "outputId": "2921436c-1c6f-46da-db01-62de2faa9d70"
      },
      "outputs": [
        {
          "name": "stdout",
          "output_type": "stream",
          "text": [
            "Files already downloaded and verified\n"
          ]
        },
        {
          "name": "stderr",
          "output_type": "stream",
          "text": [
            "100%|██████████| 391/391 [00:13<00:00, 29.68it/s]\n"
          ]
        },
        {
          "name": "stdout",
          "output_type": "stream",
          "text": [
            "DIP Epoch [1/10], Loss: 0.055453838294614914\n"
          ]
        },
        {
          "name": "stderr",
          "output_type": "stream",
          "text": [
            "100%|██████████| 391/391 [00:13<00:00, 29.78it/s]\n"
          ]
        },
        {
          "name": "stdout",
          "output_type": "stream",
          "text": [
            "DIP Epoch [2/10], Loss: 0.015865247120218508\n"
          ]
        },
        {
          "name": "stderr",
          "output_type": "stream",
          "text": [
            "100%|██████████| 391/391 [00:13<00:00, 29.95it/s]\n"
          ]
        },
        {
          "name": "stdout",
          "output_type": "stream",
          "text": [
            "DIP Epoch [3/10], Loss: 0.00908755980041402\n"
          ]
        },
        {
          "name": "stderr",
          "output_type": "stream",
          "text": [
            "100%|██████████| 391/391 [00:13<00:00, 29.84it/s]\n"
          ]
        },
        {
          "name": "stdout",
          "output_type": "stream",
          "text": [
            "DIP Epoch [4/10], Loss: 0.00682242918888207\n"
          ]
        },
        {
          "name": "stderr",
          "output_type": "stream",
          "text": [
            "100%|██████████| 391/391 [00:13<00:00, 30.00it/s]\n"
          ]
        },
        {
          "name": "stdout",
          "output_type": "stream",
          "text": [
            "DIP Epoch [5/10], Loss: 0.005675839284634994\n"
          ]
        },
        {
          "name": "stderr",
          "output_type": "stream",
          "text": [
            "100%|██████████| 391/391 [00:13<00:00, 29.53it/s]\n"
          ]
        },
        {
          "name": "stdout",
          "output_type": "stream",
          "text": [
            "DIP Epoch [6/10], Loss: 0.004949950522569287\n"
          ]
        },
        {
          "name": "stderr",
          "output_type": "stream",
          "text": [
            "100%|██████████| 391/391 [00:13<00:00, 29.39it/s]\n"
          ]
        },
        {
          "name": "stdout",
          "output_type": "stream",
          "text": [
            "DIP Epoch [7/10], Loss: 0.00454921255547963\n"
          ]
        },
        {
          "name": "stderr",
          "output_type": "stream",
          "text": [
            "100%|██████████| 391/391 [00:13<00:00, 29.74it/s]\n"
          ]
        },
        {
          "name": "stdout",
          "output_type": "stream",
          "text": [
            "DIP Epoch [8/10], Loss: 0.004321731810989168\n"
          ]
        },
        {
          "name": "stderr",
          "output_type": "stream",
          "text": [
            "100%|██████████| 391/391 [00:13<00:00, 29.59it/s]\n"
          ]
        },
        {
          "name": "stdout",
          "output_type": "stream",
          "text": [
            "DIP Epoch [9/10], Loss: 0.004177279015907737\n"
          ]
        },
        {
          "name": "stderr",
          "output_type": "stream",
          "text": [
            "100%|██████████| 391/391 [00:13<00:00, 29.29it/s]\n"
          ]
        },
        {
          "name": "stdout",
          "output_type": "stream",
          "text": [
            "DIP Epoch [10/10], Loss: 0.004092127208590812\n"
          ]
        },
        {
          "name": "stderr",
          "output_type": "stream",
          "text": [
            "100%|██████████| 391/391 [00:40<00:00,  9.60it/s]\n"
          ]
        },
        {
          "name": "stdout",
          "output_type": "stream",
          "text": [
            "DDPM Epoch [1/10], Loss: 0.01265446000013148\n"
          ]
        },
        {
          "name": "stderr",
          "output_type": "stream",
          "text": [
            "100%|██████████| 391/391 [00:40<00:00,  9.64it/s]\n"
          ]
        },
        {
          "name": "stdout",
          "output_type": "stream",
          "text": [
            "DDPM Epoch [2/10], Loss: 0.0047922215908003584\n"
          ]
        },
        {
          "name": "stderr",
          "output_type": "stream",
          "text": [
            "100%|██████████| 391/391 [00:39<00:00,  9.80it/s]\n"
          ]
        },
        {
          "name": "stdout",
          "output_type": "stream",
          "text": [
            "DDPM Epoch [3/10], Loss: 0.004278873565042263\n"
          ]
        },
        {
          "name": "stderr",
          "output_type": "stream",
          "text": [
            "100%|██████████| 391/391 [00:40<00:00,  9.74it/s]\n"
          ]
        },
        {
          "name": "stdout",
          "output_type": "stream",
          "text": [
            "DDPM Epoch [4/10], Loss: 0.004093130110808269\n"
          ]
        },
        {
          "name": "stderr",
          "output_type": "stream",
          "text": [
            "100%|██████████| 391/391 [00:40<00:00,  9.74it/s]\n"
          ]
        },
        {
          "name": "stdout",
          "output_type": "stream",
          "text": [
            "DDPM Epoch [5/10], Loss: 0.003989414665657465\n"
          ]
        },
        {
          "name": "stderr",
          "output_type": "stream",
          "text": [
            "100%|██████████| 391/391 [00:40<00:00,  9.72it/s]\n"
          ]
        },
        {
          "name": "stdout",
          "output_type": "stream",
          "text": [
            "DDPM Epoch [6/10], Loss: 0.003871389240731516\n"
          ]
        },
        {
          "name": "stderr",
          "output_type": "stream",
          "text": [
            "100%|██████████| 391/391 [00:40<00:00,  9.70it/s]\n"
          ]
        },
        {
          "name": "stdout",
          "output_type": "stream",
          "text": [
            "DDPM Epoch [7/10], Loss: 0.003805848101125387\n"
          ]
        },
        {
          "name": "stderr",
          "output_type": "stream",
          "text": [
            "100%|██████████| 391/391 [00:39<00:00,  9.85it/s]\n"
          ]
        },
        {
          "name": "stdout",
          "output_type": "stream",
          "text": [
            "DDPM Epoch [8/10], Loss: 0.0037642156334874955\n"
          ]
        },
        {
          "name": "stderr",
          "output_type": "stream",
          "text": [
            "100%|██████████| 391/391 [00:39<00:00,  9.78it/s]\n"
          ]
        },
        {
          "name": "stdout",
          "output_type": "stream",
          "text": [
            "DDPM Epoch [9/10], Loss: 0.0037219153402749533\n"
          ]
        },
        {
          "name": "stderr",
          "output_type": "stream",
          "text": [
            "100%|██████████| 391/391 [00:40<00:00,  9.74it/s]\n",
            "WARNING:matplotlib.image:Clipping input data to the valid range for imshow with RGB data ([0..1] for floats or [0..255] for integers).\n",
            "WARNING:matplotlib.image:Clipping input data to the valid range for imshow with RGB data ([0..1] for floats or [0..255] for integers).\n"
          ]
        },
        {
          "name": "stdout",
          "output_type": "stream",
          "text": [
            "DDPM Epoch [10/10], Loss: 0.0036740284407144543\n"
          ]
        },
        {
          "data": {
            "image/png": "[encoded data removed]",
            "text/plain": [
              "<Figure size 800x400 with 2 Axes>"
            ]
          },
          "metadata": {},
          "output_type": "display_data"
        },
        {
          "name": "stdout",
          "output_type": "stream",
          "text": [
            "PSNR: 17.796502448729665\n",
            "SSIM: 0.42997655272483826\n"
          ]
        },
        {
          "name": "stderr",
          "output_type": "stream",
          "text": [
            "<ipython-input-11-6cc9393b0115>:144: FutureWarning: `multichannel` is a deprecated argument name for `structural_similarity`. It will be removed in version 1.0. Please use `channel_axis` instead.\n",
            "  ssim_value = ssim(torch.clone(test_image).cpu().permute(1, 2, 0).numpy(),\n"
          ]
        }
      ],
      "source": [
        "import torch\n",
        "import torch.nn as nn\n",
        "import torch.optim as optim\n",
        "import torchvision\n",
        "import torchvision.transforms as transforms\n",
        "from torch.utils.data import DataLoader\n",
        "from tqdm import tqdm\n",
        "\n",
        "# Step 1: Define DIP Model\n",
        "class DIP(nn.Module):\n",
        "    def __init__(self, channels):\n",
        "        super(DIP, self).__init__()\n",
        "        self.net = nn.Sequential(\n",
        "            nn.Conv2d(channels, channels, kernel_size=3, padding=1),\n",
        "            nn.ReLU(),\n",
        "            nn.Conv2d(channels, channels, kernel_size=3, padding=1)\n",
        "        )\n",
        "\n",
        "    def forward(self, x):\n",
        "        return self.net(x)\n",
        "\n",
        "# Step 2: Define DDPM Model\n",
        "class DDPMBlock(nn.Module):\n",
        "    def __init__(self, channels, noise_schedule):\n",
        "        super(DDPMBlock, self).__init__()\n",
        "        self.net = nn.Sequential(\n",
        "            nn.Conv2d(channels, channels, kernel_size=3, padding=1),\n",
        "            nn.ReLU(),\n",
        "            nn.Conv2d(channels, channels, kernel_size=3, padding=1)\n",
        "        )\n",
        "        self.sigma_schedule = nn.Parameter(torch.tensor(noise_schedule), requires_grad=False)\n",
        "\n",
        "    def forward(self, x, t):\n",
        "        sigma_t = self.sigma_schedule[t]\n",
        "        noise = torch.randn_like(x) * sigma_t\n",
        "        return x + noise - self.net(x)\n",
        "\n",
        "class DDPM(nn.Module):\n",
        "    def __init__(self, num_blocks, channels, noise_schedule):\n",
        "        super(DDPM, self).__init__()\n",
        "        self.blocks = nn.ModuleList([DDPMBlock(channels, noise_schedule) for _ in range(num_blocks)])\n",
        "\n",
        "    def forward(self, x, t):\n",
        "        for block in self.blocks:\n",
        "            x = block(x, t)\n",
        "        return x\n",
        "\n",
        "# Step 3: Preprocess CIFAR-10 Dataset\n",
        "transform = transforms.Compose([\n",
        "    transforms.ToTensor(),\n",
        "    transforms.Normalize((0.5, 0.5, 0.5), (0.5, 0.5, 0.5)) # Normalize to [-1, 1]\n",
        "])\n",
        "\n",
        "trainset = torchvision.datasets.CIFAR10(root='./data', train=True, download=True, transform=transform)\n",
        "# Exp3 here\n",
        "trainloader = DataLoader(trainset, batch_size=128, shuffle=True)\n",
        "\n",
        "# Step 4: Initialize DIP Model, Loss, and Optimizer\n",
        "device = torch.device(\"cuda\" if torch.cuda.is_available() else \"cpu\")\n",
        "\n",
        "channels = 3  # For RGB images\n",
        "dip_model = DIP(channels).to(device)\n",
        "dip_criterion = nn.MSELoss()\n",
        "dip_optimizer = optim.Adam(dip_model.parameters(), lr=0.001)\n",
        "\n",
        "# Step 5: Pre-training DIP Model\n",
        "num_dip_epochs = 10\n",
        "for epoch in range(num_dip_epochs):\n",
        "    dip_model.train()\n",
        "    running_loss = 0.0\n",
        "    for inputs, _ in tqdm(trainloader):\n",
        "        inputs = inputs.to(device)\n",
        "        dip_optimizer.zero_grad()\n",
        "        outputs = dip_model(inputs)\n",
        "        loss = dip_criterion(outputs, inputs)\n",
        "        loss.backward()\n",
        "        dip_optimizer.step()\n",
        "        running_loss += loss.item()\n",
        "    print(f\"DIP Epoch [{epoch+1}/{num_dip_epochs}], Loss: {running_loss/len(trainloader)}\")\n",
        "\n",
        "# Step 6: Fine-tuning DIP Model using DDPM\n",
        "num_blocks = 10\n",
        "noise_schedule = [0.01 * (i / 1000) for i in range(1000)]  # Example noise schedule\n",
        "ddpm_model = DDPM(num_blocks, channels, noise_schedule).to(device)\n",
        "ddpm_criterion = nn.MSELoss()\n",
        "ddpm_optimizer = optim.Adam(ddpm_model.parameters(), lr=0.001)\n",
        "\n",
        "# Freeze DIP model parameters\n",
        "for param in dip_model.parameters():\n",
        "    param.requires_grad = False\n",
        "\n",
        "# Step 7: Fine-tuning Loop\n",
        "num_ddpm_epochs = 10\n",
        "for epoch in range(num_ddpm_epochs):\n",
        "    ddpm_model.train()\n",
        "    running_loss = 0.0\n",
        "    for inputs, _ in tqdm(trainloader):\n",
        "        inputs = inputs.to(device)\n",
        "        ddpm_optimizer.zero_grad()\n",
        "\n",
        "        # Forward pass through DIP model\n",
        "        with torch.no_grad():\n",
        "            dip_outputs = dip_model(inputs)\n",
        "\n",
        "        # Forward pass through DDPM model\n",
        "        ddpm_outputs = ddpm_model(dip_outputs, t=torch.randint(0, len(noise_schedule), (1,)).item())\n",
        "\n",
        "        # Compute loss\n",
        "        loss = ddpm_criterion(ddpm_outputs, inputs)\n",
        "\n",
        "        # Backward pass and optimization\n",
        "        loss.backward()\n",
        "        ddpm_optimizer.step()\n",
        "\n",
        "        running_loss += loss.item()\n",
        "    print(f\"DDPM Epoch [{epoch+1}/{num_ddpm_epochs}], Loss: {running_loss/len(trainloader)}\")\n",
        "\n",
        "# Step 8: Evaluation and Sample Generation\n",
        "def denoise_image(model, image, num_steps=10):\n",
        "    model.eval()\n",
        "    with torch.no_grad():\n",
        "        x = image.unsqueeze(0).to(device)\n",
        "        for t in range(num_steps):\n",
        "            x = model(x, t=torch.randint(0, len(noise_schedule), (1,)).item())\n",
        "    return x.cpu().squeeze(0)\n",
        "\n",
        "# Choose a random image from the dataset for evaluation\n",
        "test_image, _ = trainset[0]\n",
        "denoised_image = denoise_image(ddpm_model, test_image)\n",
        "\n",
        "# Plot original and denoised images\n",
        "plt.figure(figsize=(8, 4))\n",
        "plt.subplot(1, 2, 1)\n",
        "plt.title('Original Image')\n",
        "plt.imshow(test_image.permute(1, 2, 0))\n",
        "plt.subplot(1, 2, 2)\n",
        "plt.title('Denoised Image')\n",
        "plt.imshow(denoised_image.permute(1, 2, 0))\n",
        "plt.show()\n",
        "\n",
        "# Calculate PSNR and SSIM\n",
        "psnr_value = psnr(torch.clone(test_image).cpu().permute(1, 2, 0).numpy(),\n",
        "                  denoised_image.cpu().permute(1, 2, 0).numpy())\n",
        "ssim_value = ssim(torch.clone(test_image).cpu().permute(1, 2, 0).numpy(),\n",
        "                  denoised_image.cpu().permute(1, 2, 0).numpy(), multichannel=True)\n",
        "\n",
        "print(f\"PSNR: {psnr_value}\")\n",
        "print(f\"SSIM: {ssim_value}\")"
      ]
    },
    {
      "cell_type": "markdown",
      "metadata": {
        "id": "weMhL4akJWr6"
      },
      "source": [
        "(7)Exp4: Adjust epochs to 20 for both DIP and DDPM"
      ]
    },
    {
      "cell_type": "code",
      "execution_count": 14,
      "metadata": {
        "colab": {
          "base_uri": "https://localhost:8080/",
          "height": 1000
        },
        "id": "CP5HSYq1JXCj",
        "outputId": "98dde980-c946-4240-bb1a-f9b23ad57108"
      },
      "outputs": [
        {
          "name": "stdout",
          "output_type": "stream",
          "text": [
            "Files already downloaded and verified\n"
          ]
        },
        {
          "name": "stderr",
          "output_type": "stream",
          "text": [
            "100%|██████████| 782/782 [00:15<00:00, 51.41it/s]\n"
          ]
        },
        {
          "name": "stdout",
          "output_type": "stream",
          "text": [
            "DIP Epoch [1/20], Loss: 0.05332531060194573\n"
          ]
        },
        {
          "name": "stderr",
          "output_type": "stream",
          "text": [
            "100%|██████████| 782/782 [00:15<00:00, 51.57it/s]\n"
          ]
        },
        {
          "name": "stdout",
          "output_type": "stream",
          "text": [
            "DIP Epoch [2/20], Loss: 0.006013610349644137\n"
          ]
        },
        {
          "name": "stderr",
          "output_type": "stream",
          "text": [
            "100%|██████████| 782/782 [00:15<00:00, 51.17it/s]\n"
          ]
        },
        {
          "name": "stdout",
          "output_type": "stream",
          "text": [
            "DIP Epoch [3/20], Loss: 0.0030302134638889202\n"
          ]
        },
        {
          "name": "stderr",
          "output_type": "stream",
          "text": [
            "100%|██████████| 782/782 [00:15<00:00, 51.06it/s]\n"
          ]
        },
        {
          "name": "stdout",
          "output_type": "stream",
          "text": [
            "DIP Epoch [4/20], Loss: 0.001054092844733206\n"
          ]
        },
        {
          "name": "stderr",
          "output_type": "stream",
          "text": [
            "100%|██████████| 782/782 [00:15<00:00, 51.23it/s]\n"
          ]
        },
        {
          "name": "stdout",
          "output_type": "stream",
          "text": [
            "DIP Epoch [5/20], Loss: 0.0005368172516026582\n"
          ]
        },
        {
          "name": "stderr",
          "output_type": "stream",
          "text": [
            "100%|██████████| 782/782 [00:15<00:00, 51.67it/s]\n"
          ]
        },
        {
          "name": "stdout",
          "output_type": "stream",
          "text": [
            "DIP Epoch [6/20], Loss: 0.00032757227976352115\n"
          ]
        },
        {
          "name": "stderr",
          "output_type": "stream",
          "text": [
            "100%|██████████| 782/782 [00:15<00:00, 51.64it/s]\n"
          ]
        },
        {
          "name": "stdout",
          "output_type": "stream",
          "text": [
            "DIP Epoch [7/20], Loss: 0.0002083385513597162\n"
          ]
        },
        {
          "name": "stderr",
          "output_type": "stream",
          "text": [
            "100%|██████████| 782/782 [00:15<00:00, 51.81it/s]\n"
          ]
        },
        {
          "name": "stdout",
          "output_type": "stream",
          "text": [
            "DIP Epoch [8/20], Loss: 0.00013230946040405627\n"
          ]
        },
        {
          "name": "stderr",
          "output_type": "stream",
          "text": [
            "100%|██████████| 782/782 [00:15<00:00, 51.33it/s]\n"
          ]
        },
        {
          "name": "stdout",
          "output_type": "stream",
          "text": [
            "DIP Epoch [9/20], Loss: 8.293084706065318e-05\n"
          ]
        },
        {
          "name": "stderr",
          "output_type": "stream",
          "text": [
            "100%|██████████| 782/782 [00:15<00:00, 50.33it/s]\n"
          ]
        },
        {
          "name": "stdout",
          "output_type": "stream",
          "text": [
            "DIP Epoch [10/20], Loss: 5.47888773682011e-05\n"
          ]
        },
        {
          "name": "stderr",
          "output_type": "stream",
          "text": [
            "100%|██████████| 782/782 [00:15<00:00, 51.53it/s]\n"
          ]
        },
        {
          "name": "stdout",
          "output_type": "stream",
          "text": [
            "DIP Epoch [11/20], Loss: 3.942148114940973e-05\n"
          ]
        },
        {
          "name": "stderr",
          "output_type": "stream",
          "text": [
            "100%|██████████| 782/782 [00:15<00:00, 51.50it/s]\n"
          ]
        },
        {
          "name": "stdout",
          "output_type": "stream",
          "text": [
            "DIP Epoch [12/20], Loss: 3.0692873752343674e-05\n"
          ]
        },
        {
          "name": "stderr",
          "output_type": "stream",
          "text": [
            "100%|██████████| 782/782 [00:15<00:00, 51.37it/s]\n"
          ]
        },
        {
          "name": "stdout",
          "output_type": "stream",
          "text": [
            "DIP Epoch [13/20], Loss: 2.4835197807318243e-05\n"
          ]
        },
        {
          "name": "stderr",
          "output_type": "stream",
          "text": [
            "100%|██████████| 782/782 [00:15<00:00, 51.75it/s]\n"
          ]
        },
        {
          "name": "stdout",
          "output_type": "stream",
          "text": [
            "DIP Epoch [14/20], Loss: 2.061327342600118e-05\n"
          ]
        },
        {
          "name": "stderr",
          "output_type": "stream",
          "text": [
            "100%|██████████| 782/782 [00:15<00:00, 51.83it/s]\n"
          ]
        },
        {
          "name": "stdout",
          "output_type": "stream",
          "text": [
            "DIP Epoch [15/20], Loss: 1.692306959088353e-05\n"
          ]
        },
        {
          "name": "stderr",
          "output_type": "stream",
          "text": [
            "100%|██████████| 782/782 [00:15<00:00, 51.32it/s]\n"
          ]
        },
        {
          "name": "stdout",
          "output_type": "stream",
          "text": [
            "DIP Epoch [16/20], Loss: 1.4582923801830838e-05\n"
          ]
        },
        {
          "name": "stderr",
          "output_type": "stream",
          "text": [
            "100%|██████████| 782/782 [00:15<00:00, 51.96it/s]\n"
          ]
        },
        {
          "name": "stdout",
          "output_type": "stream",
          "text": [
            "DIP Epoch [17/20], Loss: 1.2157790186165003e-05\n"
          ]
        },
        {
          "name": "stderr",
          "output_type": "stream",
          "text": [
            "100%|██████████| 782/782 [00:15<00:00, 50.98it/s]\n"
          ]
        },
        {
          "name": "stdout",
          "output_type": "stream",
          "text": [
            "DIP Epoch [18/20], Loss: 1.0670691175888964e-05\n"
          ]
        },
        {
          "name": "stderr",
          "output_type": "stream",
          "text": [
            "100%|██████████| 782/782 [00:15<00:00, 51.28it/s]\n"
          ]
        },
        {
          "name": "stdout",
          "output_type": "stream",
          "text": [
            "DIP Epoch [19/20], Loss: 9.326822827149307e-06\n"
          ]
        },
        {
          "name": "stderr",
          "output_type": "stream",
          "text": [
            "100%|██████████| 782/782 [00:15<00:00, 50.75it/s]\n"
          ]
        },
        {
          "name": "stdout",
          "output_type": "stream",
          "text": [
            "DIP Epoch [20/20], Loss: 8.36222059491137e-06\n"
          ]
        },
        {
          "name": "stderr",
          "output_type": "stream",
          "text": [
            "100%|██████████| 782/782 [00:53<00:00, 14.58it/s]\n"
          ]
        },
        {
          "name": "stdout",
          "output_type": "stream",
          "text": [
            "DDPM Epoch [1/20], Loss: 0.00910851255055074\n"
          ]
        },
        {
          "name": "stderr",
          "output_type": "stream",
          "text": [
            "100%|██████████| 782/782 [00:52<00:00, 14.77it/s]\n"
          ]
        },
        {
          "name": "stdout",
          "output_type": "stream",
          "text": [
            "DDPM Epoch [2/20], Loss: 0.00116404211149364\n"
          ]
        },
        {
          "name": "stderr",
          "output_type": "stream",
          "text": [
            "100%|██████████| 782/782 [00:53<00:00, 14.67it/s]\n"
          ]
        },
        {
          "name": "stdout",
          "output_type": "stream",
          "text": [
            "DDPM Epoch [3/20], Loss: 0.0006620161530613551\n"
          ]
        },
        {
          "name": "stderr",
          "output_type": "stream",
          "text": [
            "100%|██████████| 782/782 [00:53<00:00, 14.64it/s]\n"
          ]
        },
        {
          "name": "stdout",
          "output_type": "stream",
          "text": [
            "DDPM Epoch [4/20], Loss: 0.00046208133978937105\n"
          ]
        },
        {
          "name": "stderr",
          "output_type": "stream",
          "text": [
            "100%|██████████| 782/782 [00:52<00:00, 14.86it/s]\n"
          ]
        },
        {
          "name": "stdout",
          "output_type": "stream",
          "text": [
            "DDPM Epoch [5/20], Loss: 0.00038251066500211763\n"
          ]
        },
        {
          "name": "stderr",
          "output_type": "stream",
          "text": [
            "100%|██████████| 782/782 [00:52<00:00, 14.86it/s]\n"
          ]
        },
        {
          "name": "stdout",
          "output_type": "stream",
          "text": [
            "DDPM Epoch [6/20], Loss: 0.0003055972862857557\n"
          ]
        },
        {
          "name": "stderr",
          "output_type": "stream",
          "text": [
            "100%|██████████| 782/782 [00:52<00:00, 14.79it/s]\n"
          ]
        },
        {
          "name": "stdout",
          "output_type": "stream",
          "text": [
            "DDPM Epoch [7/20], Loss: 0.0002818606253198656\n"
          ]
        },
        {
          "name": "stderr",
          "output_type": "stream",
          "text": [
            "100%|██████████| 782/782 [00:52<00:00, 14.93it/s]\n"
          ]
        },
        {
          "name": "stdout",
          "output_type": "stream",
          "text": [
            "DDPM Epoch [8/20], Loss: 0.00025004548858196174\n"
          ]
        },
        {
          "name": "stderr",
          "output_type": "stream",
          "text": [
            "100%|██████████| 782/782 [00:53<00:00, 14.65it/s]\n"
          ]
        },
        {
          "name": "stdout",
          "output_type": "stream",
          "text": [
            "DDPM Epoch [9/20], Loss: 0.00024244427422533179\n"
          ]
        },
        {
          "name": "stderr",
          "output_type": "stream",
          "text": [
            "100%|██████████| 782/782 [00:52<00:00, 14.88it/s]\n"
          ]
        },
        {
          "name": "stdout",
          "output_type": "stream",
          "text": [
            "DDPM Epoch [10/20], Loss: 0.00022074251736346718\n"
          ]
        },
        {
          "name": "stderr",
          "output_type": "stream",
          "text": [
            "100%|██████████| 782/782 [00:53<00:00, 14.73it/s]\n"
          ]
        },
        {
          "name": "stdout",
          "output_type": "stream",
          "text": [
            "DDPM Epoch [11/20], Loss: 0.00022103510358614762\n"
          ]
        },
        {
          "name": "stderr",
          "output_type": "stream",
          "text": [
            "100%|██████████| 782/782 [00:52<00:00, 14.94it/s]\n"
          ]
        },
        {
          "name": "stdout",
          "output_type": "stream",
          "text": [
            "DDPM Epoch [12/20], Loss: 0.0002091162281282156\n"
          ]
        },
        {
          "name": "stderr",
          "output_type": "stream",
          "text": [
            "100%|██████████| 782/782 [00:52<00:00, 14.82it/s]\n"
          ]
        },
        {
          "name": "stdout",
          "output_type": "stream",
          "text": [
            "DDPM Epoch [13/20], Loss: 0.00020219275239420577\n"
          ]
        },
        {
          "name": "stderr",
          "output_type": "stream",
          "text": [
            "100%|██████████| 782/782 [00:52<00:00, 14.77it/s]\n"
          ]
        },
        {
          "name": "stdout",
          "output_type": "stream",
          "text": [
            "DDPM Epoch [14/20], Loss: 0.00020020852370438558\n"
          ]
        },
        {
          "name": "stderr",
          "output_type": "stream",
          "text": [
            "100%|██████████| 782/782 [00:53<00:00, 14.69it/s]\n"
          ]
        },
        {
          "name": "stdout",
          "output_type": "stream",
          "text": [
            "DDPM Epoch [15/20], Loss: 0.00018276403888661723\n"
          ]
        },
        {
          "name": "stderr",
          "output_type": "stream",
          "text": [
            "100%|██████████| 782/782 [00:53<00:00, 14.72it/s]\n"
          ]
        },
        {
          "name": "stdout",
          "output_type": "stream",
          "text": [
            "DDPM Epoch [16/20], Loss: 0.00017679160384916003\n"
          ]
        },
        {
          "name": "stderr",
          "output_type": "stream",
          "text": [
            "100%|██████████| 782/782 [00:53<00:00, 14.65it/s]\n"
          ]
        },
        {
          "name": "stdout",
          "output_type": "stream",
          "text": [
            "DDPM Epoch [17/20], Loss: 0.0001746307314817405\n"
          ]
        },
        {
          "name": "stderr",
          "output_type": "stream",
          "text": [
            "100%|██████████| 782/782 [00:53<00:00, 14.71it/s]\n"
          ]
        },
        {
          "name": "stdout",
          "output_type": "stream",
          "text": [
            "DDPM Epoch [18/20], Loss: 0.00016934958239522307\n"
          ]
        },
        {
          "name": "stderr",
          "output_type": "stream",
          "text": [
            "100%|██████████| 782/782 [00:52<00:00, 14.81it/s]\n"
          ]
        },
        {
          "name": "stdout",
          "output_type": "stream",
          "text": [
            "DDPM Epoch [19/20], Loss: 0.0001709790482642659\n"
          ]
        },
        {
          "name": "stderr",
          "output_type": "stream",
          "text": [
            "100%|██████████| 782/782 [00:52<00:00, 14.91it/s]\n",
            "WARNING:matplotlib.image:Clipping input data to the valid range for imshow with RGB data ([0..1] for floats or [0..255] for integers).\n",
            "WARNING:matplotlib.image:Clipping input data to the valid range for imshow with RGB data ([0..1] for floats or [0..255] for integers).\n"
          ]
        },
        {
          "name": "stdout",
          "output_type": "stream",
          "text": [
            "DDPM Epoch [20/20], Loss: 0.00016471396229276612\n"
          ]
        },
        {
          "data": {
            "image/png": "[encoded data removed]",
            "text/plain": [
              "<Figure size 800x400 with 2 Axes>"
            ]
          },
          "metadata": {},
          "output_type": "display_data"
        },
        {
          "name": "stdout",
          "output_type": "stream",
          "text": [
            "PSNR: 30.271120399630288\n",
            "SSIM: 0.9335585236549377\n"
          ]
        },
        {
          "name": "stderr",
          "output_type": "stream",
          "text": [
            "<ipython-input-14-eb16af7407da>:144: FutureWarning: `multichannel` is a deprecated argument name for `structural_similarity`. It will be removed in version 1.0. Please use `channel_axis` instead.\n",
            "  ssim_value = ssim(torch.clone(test_image).cpu().permute(1, 2, 0).numpy(),\n"
          ]
        }
      ],
      "source": [
        "import torch\n",
        "import torch.nn as nn\n",
        "import torch.optim as optim\n",
        "import torchvision\n",
        "import torchvision.transforms as transforms\n",
        "from torch.utils.data import DataLoader\n",
        "from tqdm import tqdm\n",
        "\n",
        "# Step 1: Define DIP Model\n",
        "class DIP(nn.Module):\n",
        "    def __init__(self, channels):\n",
        "        super(DIP, self).__init__()\n",
        "        self.net = nn.Sequential(\n",
        "            nn.Conv2d(channels, channels, kernel_size=3, padding=1),\n",
        "            nn.ReLU(),\n",
        "            nn.Conv2d(channels, channels, kernel_size=3, padding=1)\n",
        "        )\n",
        "\n",
        "    def forward(self, x):\n",
        "        return self.net(x)\n",
        "\n",
        "# Step 2: Define DDPM Model\n",
        "class DDPMBlock(nn.Module):\n",
        "    def __init__(self, channels, noise_schedule):\n",
        "        super(DDPMBlock, self).__init__()\n",
        "        self.net = nn.Sequential(\n",
        "            nn.Conv2d(channels, channels, kernel_size=3, padding=1),\n",
        "            nn.ReLU(),\n",
        "            nn.Conv2d(channels, channels, kernel_size=3, padding=1)\n",
        "        )\n",
        "        self.sigma_schedule = nn.Parameter(torch.tensor(noise_schedule), requires_grad=False)\n",
        "\n",
        "    def forward(self, x, t):\n",
        "        sigma_t = self.sigma_schedule[t]\n",
        "        noise = torch.randn_like(x) * sigma_t\n",
        "        return x + noise - self.net(x)\n",
        "\n",
        "class DDPM(nn.Module):\n",
        "    def __init__(self, num_blocks, channels, noise_schedule):\n",
        "        super(DDPM, self).__init__()\n",
        "        self.blocks = nn.ModuleList([DDPMBlock(channels, noise_schedule) for _ in range(num_blocks)])\n",
        "\n",
        "    def forward(self, x, t):\n",
        "        for block in self.blocks:\n",
        "            x = block(x, t)\n",
        "        return x\n",
        "\n",
        "# Step 3: Preprocess CIFAR-10 Dataset\n",
        "transform = transforms.Compose([\n",
        "    transforms.ToTensor(),\n",
        "    transforms.Normalize((0.5, 0.5, 0.5), (0.5, 0.5, 0.5)) # Normalize to [-1, 1]\n",
        "])\n",
        "\n",
        "trainset = torchvision.datasets.CIFAR10(root='./data', train=True, download=True, transform=transform)\n",
        "# Exp3 here\n",
        "trainloader = DataLoader(trainset, batch_size=64, shuffle=True)\n",
        "\n",
        "# Step 4: Initialize DIP Model, Loss, and Optimizer\n",
        "device = torch.device(\"cuda\" if torch.cuda.is_available() else \"cpu\")\n",
        "\n",
        "channels = 3  # For RGB images\n",
        "dip_model = DIP(channels).to(device)\n",
        "dip_criterion = nn.MSELoss()\n",
        "dip_optimizer = optim.Adam(dip_model.parameters(), lr=0.001)\n",
        "\n",
        "# Step 5: Pre-training DIP Model\n",
        "num_dip_epochs = 20\n",
        "for epoch in range(num_dip_epochs):\n",
        "    dip_model.train()\n",
        "    running_loss = 0.0\n",
        "    for inputs, _ in tqdm(trainloader):\n",
        "        inputs = inputs.to(device)\n",
        "        dip_optimizer.zero_grad()\n",
        "        outputs = dip_model(inputs)\n",
        "        loss = dip_criterion(outputs, inputs)\n",
        "        loss.backward()\n",
        "        dip_optimizer.step()\n",
        "        running_loss += loss.item()\n",
        "    print(f\"DIP Epoch [{epoch+1}/{num_dip_epochs}], Loss: {running_loss/len(trainloader)}\")\n",
        "\n",
        "# Step 6: Fine-tuning DIP Model using DDPM\n",
        "num_blocks = 10\n",
        "noise_schedule = [0.01 * (i / 1000) for i in range(1000)]  # Example noise schedule\n",
        "ddpm_model = DDPM(num_blocks, channels, noise_schedule).to(device)\n",
        "ddpm_criterion = nn.MSELoss()\n",
        "ddpm_optimizer = optim.Adam(ddpm_model.parameters(), lr=0.001)\n",
        "\n",
        "# Freeze DIP model parameters\n",
        "for param in dip_model.parameters():\n",
        "    param.requires_grad = False\n",
        "\n",
        "# Step 7: Fine-tuning Loop\n",
        "num_ddpm_epochs = 20\n",
        "for epoch in range(num_ddpm_epochs):\n",
        "    ddpm_model.train()\n",
        "    running_loss = 0.0\n",
        "    for inputs, _ in tqdm(trainloader):\n",
        "        inputs = inputs.to(device)\n",
        "        ddpm_optimizer.zero_grad()\n",
        "\n",
        "        # Forward pass through DIP model\n",
        "        with torch.no_grad():\n",
        "            dip_outputs = dip_model(inputs)\n",
        "\n",
        "        # Forward pass through DDPM model\n",
        "        ddpm_outputs = ddpm_model(dip_outputs, t=torch.randint(0, len(noise_schedule), (1,)).item())\n",
        "\n",
        "        # Compute loss\n",
        "        loss = ddpm_criterion(ddpm_outputs, inputs)\n",
        "\n",
        "        # Backward pass and optimization\n",
        "        loss.backward()\n",
        "        ddpm_optimizer.step()\n",
        "\n",
        "        running_loss += loss.item()\n",
        "    print(f\"DDPM Epoch [{epoch+1}/{num_ddpm_epochs}], Loss: {running_loss/len(trainloader)}\")\n",
        "\n",
        "# Step 8: Evaluation and Sample Generation\n",
        "def denoise_image(model, image, num_steps=10):\n",
        "    model.eval()\n",
        "    with torch.no_grad():\n",
        "        x = image.unsqueeze(0).to(device)\n",
        "        for t in range(num_steps):\n",
        "            x = model(x, t=torch.randint(0, len(noise_schedule), (1,)).item())\n",
        "    return x.cpu().squeeze(0)\n",
        "\n",
        "# Choose a random image from the dataset for evaluation\n",
        "test_image, _ = trainset[0]\n",
        "denoised_image = denoise_image(ddpm_model, test_image)\n",
        "\n",
        "# Plot original and denoised images\n",
        "plt.figure(figsize=(8, 4))\n",
        "plt.subplot(1, 2, 1)\n",
        "plt.title('Original Image')\n",
        "plt.imshow(test_image.permute(1, 2, 0))\n",
        "plt.subplot(1, 2, 2)\n",
        "plt.title('Denoised Image')\n",
        "plt.imshow(denoised_image.permute(1, 2, 0))\n",
        "plt.show()\n",
        "\n",
        "# Calculate PSNR and SSIM\n",
        "psnr_value = psnr(torch.clone(test_image).cpu().permute(1, 2, 0).numpy(),\n",
        "                  denoised_image.cpu().permute(1, 2, 0).numpy())\n",
        "ssim_value = ssim(torch.clone(test_image).cpu().permute(1, 2, 0).numpy(),\n",
        "                  denoised_image.cpu().permute(1, 2, 0).numpy(), multichannel=True)\n",
        "\n",
        "print(f\"PSNR: {psnr_value}\")\n",
        "print(f\"SSIM: {ssim_value}\")"
      ]
    }
  ],
  "metadata": {
    "accelerator": "TPU",
    "colab": {
      "gpuType": "V28",
      "machine_shape": "hm",
      "provenance": []
    },
    "kernelspec": {
      "display_name": "Python 3",
      "name": "python3"
    },
    "language_info": {
      "name": "python"
    }
  },
  "nbformat": 4,
  "nbformat_minor": 0
}
